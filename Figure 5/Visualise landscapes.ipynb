{
 "cells": [
  {
   "cell_type": "code",
   "execution_count": 19,
   "id": "ef0e5894",
   "metadata": {},
   "outputs": [],
   "source": [
    "import numpy as np\n",
    "import pandas as pd\n",
    "import matplotlib.pyplot as plt\n",
    "import matplotlib.colors as colors\n",
    "cm = 1/2.54\n",
    "plt.rcParams['pdf.fonttype'] = 42\n",
    "plt.rcParams['figure.figsize'] = (2.5*cm,2.5*cm)\n",
    "plt.rcParams[\"font.family\"] = \"Arial\""
   ]
  },
  {
   "cell_type": "code",
   "execution_count": 2,
   "id": "ea178053",
   "metadata": {},
   "outputs": [],
   "source": [
    "def truncate_colormap(cmap, minval=0.0, maxval=1.0, n=100):\n",
    "    new_cmap = colors.LinearSegmentedColormap.from_list(\n",
    "        'trunc({n},{a:.2f},{b:.2f})'.format(n=cmap.name, a=minval, b=maxval),\n",
    "        cmap(np.linspace(minval, maxval, n)))\n",
    "    return new_cmap\n",
    "\n",
    "cmap = truncate_colormap(plt.get_cmap('inferno'), 0.1, 0.9)"
   ]
  },
  {
   "cell_type": "code",
   "execution_count": 3,
   "id": "7fb23949",
   "metadata": {},
   "outputs": [],
   "source": [
    "samples = [f'control_{i}' for i in range(1,5)] + [f'4030_{i}' for i in range(1,3)] + [f'4032_{i}' for i in range(1,5)]"
   ]
  },
  {
   "cell_type": "code",
   "execution_count": 4,
   "id": "c4570308",
   "metadata": {},
   "outputs": [],
   "source": [
    "control_samples = [f'control_{i}' for i in [1,2,3,4]]\n",
    "\n",
    "treated_samples = [f'4032_{i}' for i in [1,2,3,4]] + [f'4030_{i}' for i in [1,2]]"
   ]
  },
  {
   "cell_type": "code",
   "execution_count": 5,
   "id": "51a14820",
   "metadata": {},
   "outputs": [],
   "source": [
    "offsets = pd.read_csv('../topact-data/kidney-stereoseq/offsets.csv')"
   ]
  },
  {
   "cell_type": "code",
   "execution_count": 6,
   "id": "32439c11",
   "metadata": {},
   "outputs": [],
   "source": [
    "xmins = {row.sample: row.xmin for row in offsets.itertuples()}\n",
    "ymins = {row.sample: row.ymin for row in offsets.itertuples()}"
   ]
  },
  {
   "cell_type": "code",
   "execution_count": 7,
   "id": "30411f9f",
   "metadata": {},
   "outputs": [],
   "source": [
    "def loadlandscape(sample, x, y):\n",
    "    return np.load(f'../topact-data/kidney-stereoseq/landscapes/{sample}-x={x - xmins[sample]}-y={y - ymins[sample]}.npy')"
   ]
  },
  {
   "cell_type": "code",
   "execution_count": 10,
   "id": "c8d6f1c4",
   "metadata": {},
   "outputs": [],
   "source": [
    "def get_glom_landscapes(sample):\n",
    "    gloms = np.loadtxt(f'../topact-data/kidney-stereoseq/bin20-gloms/{sample}_gloms.txt', dtype='int')\n",
    "    return [loadlandscape(sample, glom[0], glom[1]) for glom in gloms]\n",
    "\n",
    "def get_nonglom_landscapes(sample):\n",
    "    nongloms = np.loadtxt(f'../topact-data/kidney-stereoseq/nonglom-patches/{sample}_nongloms.txt', dtype='int')\n",
    "    return [loadlandscape(sample, nonglom[0], nonglom[1]) for nonglom in nongloms]"
   ]
  },
  {
   "cell_type": "code",
   "execution_count": 24,
   "id": "6d786e42",
   "metadata": {},
   "outputs": [
    {
     "data": {
      "image/png": "[encoded data removed]",
      "text/plain": [
       "<Figure size 70.8661x70.8661 with 2 Axes>"
      ]
     },
     "metadata": {
      "needs_background": "light"
     },
     "output_type": "display_data"
    }
   ],
   "source": [
    "ttd = get_glom_landscapes('control_4')\n",
    "for i in [5]:\n",
    "    \n",
    "    ls = ttd[i]\n",
    "    \n",
    "    fig, ax = plt.subplots()\n",
    "\n",
    "\n",
    "\n",
    "    img = ax.imshow(np.rot90(ls[0].T), vmax=15, cmap=cmap, origin='lower')\n",
    "\n",
    "    cbar = fig.colorbar(img, ax=ax, orientation=\"vertical\", location='right', shrink=0.82)\n",
    "    cbar.ax.tick_params(labelsize=5, width=1*cm, length=2)\n",
    "    cbar.outline.set_linewidth(1*cm)\n",
    "    plt.xticks([])\n",
    "    plt.yticks([])\n",
    "    plt.xlabel('Codensity', fontsize=5)\n",
    "    plt.ylabel('Radius', fontsize=5)\n",
    "\n",
    "\n",
    "    plt.savefig(f'./control_4_ls{i}.pdf', bbox_inches='tight')\n",
    "\n",
    "    plt.show()"
   ]
  },
  {
   "cell_type": "code",
   "execution_count": 25,
   "id": "243fa643",
   "metadata": {},
   "outputs": [
    {
     "data": {
      "image/png": "[encoded data removed]",
      "text/plain": [
       "<Figure size 70.8661x70.8661 with 2 Axes>"
      ]
     },
     "metadata": {
      "needs_background": "light"
     },
     "output_type": "display_data"
    }
   ],
   "source": [
    "trtd = get_glom_landscapes('4032_1')\n",
    "\n",
    "for i in [9]:\n",
    "    \n",
    "    ls = trtd[i]\n",
    "    \n",
    "    fig, ax = plt.subplots()\n",
    "\n",
    "\n",
    "\n",
    "    img = ax.imshow(np.rot90(ls[0].T), vmax=15, cmap=cmap, origin='lower')\n",
    "\n",
    "    cbar = fig.colorbar(img, ax=ax, orientation=\"vertical\", location='right', shrink=0.82)\n",
    "    cbar.ax.tick_params(labelsize=5, width=1*cm, length=2)\n",
    "    cbar.outline.set_linewidth(1*cm)\n",
    "    plt.xticks([])\n",
    "    plt.yticks([])\n",
    "    plt.xlabel('Codensity', fontsize=5)\n",
    "    plt.ylabel('Radius', fontsize=5)\n",
    "\n",
    "\n",
    "    plt.savefig(f'./4032_1_ls{i}.pdf', bbox_inches='tight')\n",
    "\n",
    "    plt.show()"
   ]
  },
  {
   "cell_type": "code",
   "execution_count": 26,
   "id": "e0418b6b",
   "metadata": {},
   "outputs": [
    {
     "data": {
      "image/png": "[encoded data removed]",
      "text/plain": [
       "<Figure size 70.8661x70.8661 with 2 Axes>"
      ]
     },
     "metadata": {
      "needs_background": "light"
     },
     "output_type": "display_data"
    }
   ],
   "source": [
    "control_landscapes = sum((get_glom_landscapes(sample) for sample in control_samples), [])\n",
    "\n",
    "control_average = sum(control_landscapes) / len(control_landscapes)\n",
    "\n",
    "fig, ax = plt.subplots()\n",
    "\n",
    "img = ax.imshow(np.rot90(control_average[0].T), vmax=0.32, cmap=cmap, origin='lower')\n",
    "\n",
    "cbar = fig.colorbar(img, ax=ax, orientation=\"vertical\", location='right', shrink=0.82)\n",
    "cbar.ax.tick_params(labelsize=5, width=1*cm, length=2)\n",
    "cbar.outline.set_linewidth(1*cm)\n",
    "plt.xticks([])\n",
    "plt.yticks([])\n",
    "plt.xlabel('Codensity', fontsize=5)\n",
    "plt.ylabel('Radius', fontsize=5)\n",
    "\n",
    "plt.savefig('./control_average.pdf', bbox_inches='tight')"
   ]
  },
  {
   "cell_type": "code",
   "execution_count": 27,
   "id": "004cd0ab",
   "metadata": {},
   "outputs": [
    {
     "data": {
      "image/png": "[encoded data removed]",
      "text/plain": [
       "<Figure size 70.8661x70.8661 with 2 Axes>"
      ]
     },
     "metadata": {
      "needs_background": "light"
     },
     "output_type": "display_data"
    }
   ],
   "source": [
    "treated_landscapes = sum((get_glom_landscapes(sample) for sample in treated_samples), [])\n",
    "\n",
    "treated_average = sum(treated_landscapes) / len(treated_landscapes)\n",
    "\n",
    "fig, ax = plt.subplots()\n",
    "\n",
    "\n",
    "\n",
    "img = ax.imshow(np.rot90(treated_average[0].T), vmax=0.32, cmap=cmap, origin='lower')\n",
    "\n",
    "cbar = fig.colorbar(img, ax=ax, orientation=\"vertical\", location='right', shrink=0.82)\n",
    "cbar.ax.tick_params(labelsize=5, width=1*cm, length=2)\n",
    "cbar.outline.set_linewidth(1*cm)\n",
    "plt.xticks([])\n",
    "plt.yticks([])\n",
    "plt.xlabel('Codensity', fontsize=5)\n",
    "plt.ylabel('Radius', fontsize=5)\n",
    "\n",
    "plt.savefig('./treated_average.pdf', bbox_inches='tight')"
   ]
  },
  {
   "cell_type": "code",
   "execution_count": null,
   "id": "89761ffd",
   "metadata": {},
   "outputs": [],
   "source": []
  }
 ],
 "metadata": {
  "kernelspec": {
   "display_name": "Python 3 (ipykernel)",
   "language": "python",
   "name": "python3"
  },
  "language_info": {
   "codemirror_mode": {
    "name": "ipython",
    "version": 3
   },
   "file_extension": ".py",
   "mimetype": "text/x-python",
   "name": "python",
   "nbconvert_exporter": "python",
   "pygments_lexer": "ipython3",
   "version": "3.10.0"
  }
 },
 "nbformat": 4,
 "nbformat_minor": 5
}
