{
 "cells": [
  {
   "cell_type": "code",
   "execution_count": 17,
   "id": "24967f96",
   "metadata": {},
   "outputs": [],
   "source": [
    "import numpy as np\n",
    "import pandas as pd\n",
    "\n",
    "import matplotlib.pyplot as plt\n",
    "import seaborn as sns\n",
    "\n",
    "cm = 1/2.54\n",
    "\n",
    "plt.rcParams['figure.figsize'] = (4*cm,3*cm)\n",
    "\n",
    "\n",
    "font = {'size' : 5}\n",
    "\n",
    "plt.rc('font', **font)\n",
    "\n",
    "plt.rc('axes', linewidth=1*cm)\n",
    "sns.set()\n",
    "sns.set_style(\"white\")\n",
    "sns.set_context(\"poster\")\n",
    "\n",
    "sns.set_palette('muted')\n",
    "\n",
    "cm = 1/2.54\n",
    "plt.rcParams['pdf.fonttype'] = 42"
   ]
  },
  {
   "cell_type": "code",
   "execution_count": 2,
   "id": "d179ac2f",
   "metadata": {},
   "outputs": [],
   "source": [
    "def readfile(fname):\n",
    "    with open(fname, 'r') as f:\n",
    "        return [line.rstrip() for line in f.readlines()]"
   ]
  },
  {
   "cell_type": "code",
   "execution_count": 3,
   "id": "65a0ecc1",
   "metadata": {},
   "outputs": [],
   "source": [
    "samples = [f'control_{i}' for i in [1,2,3,4]] + [f'4032_{i}' for i in [1,2,3,4]] + [f'4030_{i}' for i in [1,2]]"
   ]
  },
  {
   "cell_type": "code",
   "execution_count": 4,
   "id": "2cc3b3f8",
   "metadata": {},
   "outputs": [],
   "source": [
    "offsets_csv = pd.read_csv('../topact-data/kidney-stereoseq/offsets.csv')\n",
    "\n",
    "offsets = {}\n",
    "\n",
    "for row in offsets_csv.itertuples():\n",
    "    offsets[row.sample] = (row.xmin, row.ymin)"
   ]
  },
  {
   "cell_type": "code",
   "execution_count": 5,
   "id": "50debd12",
   "metadata": {},
   "outputs": [],
   "source": [
    "def pointdistance(x, y):\n",
    "    a, b = x\n",
    "    c, d = y\n",
    "    return ((a-c)**2 + (b-d)**2)**0.5"
   ]
  },
  {
   "cell_type": "code",
   "execution_count": 6,
   "id": "d580f4c6",
   "metadata": {},
   "outputs": [],
   "source": [
    "def innbhd(x, y):\n",
    "    a, b = x\n",
    "    c, d = y\n",
    "    return abs(a-c) <= 75 and abs(b-d) <= 75"
   ]
  },
  {
   "cell_type": "code",
   "execution_count": 7,
   "id": "cd95ed26",
   "metadata": {},
   "outputs": [],
   "source": [
    "def distance(x, ys):\n",
    "    return min(pointdistance(x, y) for y in ys)"
   ]
  },
  {
   "cell_type": "code",
   "execution_count": 8,
   "id": "02fb09bf",
   "metadata": {},
   "outputs": [],
   "source": [
    "def inpod(x, ys):\n",
    "    return any(innbhd(x, y) for y in ys)"
   ]
  },
  {
   "cell_type": "code",
   "execution_count": 11,
   "id": "14fb0f6d",
   "metadata": {},
   "outputs": [
    {
     "name": "stdout",
     "output_type": "stream",
     "text": [
      "4032_1\n",
      "4032_2\n",
      "4032_3\n",
      "4032_4\n",
      "4030_1\n",
      "4030_2\n"
     ]
    }
   ],
   "source": [
    "pod_distances = []\n",
    "assays = []\n",
    "xs = []\n",
    "ys = []\n",
    "inpods = []\n",
    "\n",
    "for sample in samples[4:]:\n",
    "    print(sample)\n",
    "    immunes = np.loadtxt(f'../topact-data/kidney-stereoseq/immune-coords/{sample}_immunes.txt').astype('int')\n",
    "    offset_x, offset_y = offsets[sample]\n",
    "    pods = np.loadtxt(f'../topact-data/kidney-stereoseq/pod-coords/{sample}_pods.txt').astype('int')\n",
    "    \n",
    "    for x,y in immunes:\n",
    "\n",
    "            \n",
    "            pod_distance = distance((x,y), pods)\n",
    "            pod_distances.append(pod_distance)\n",
    "            \n",
    "            assays.append(sample)\n",
    "            inpods.append(inpod((x,y), pods))\n",
    "            xs.append(x)\n",
    "            ys.append(y)"
   ]
  },
  {
   "cell_type": "code",
   "execution_count": 12,
   "id": "0b3a8ea7",
   "metadata": {},
   "outputs": [],
   "source": [
    "poddf = pd.DataFrame({'Sample': assays, 'x': xs, 'y': ys, 'Pod distance': pod_distances, 'Region': inpods})\n",
    "\n",
    "poddf['Distance (um)'] = poddf['Pod distance'] * 0.715"
   ]
  },
  {
   "cell_type": "code",
   "execution_count": 13,
   "id": "fa86412c",
   "metadata": {},
   "outputs": [],
   "source": [
    "poddf['Pod-adjacent'] = list(map(lambda x : 'Pod-adjacent' if x < 20 else 'Not adjacent', poddf['Distance (um)']))"
   ]
  },
  {
   "cell_type": "code",
   "execution_count": 23,
   "id": "0912c02d",
   "metadata": {},
   "outputs": [
    {
     "name": "stderr",
     "output_type": "stream",
     "text": [
      "No artists with labels found to put in legend.  Note that artists whose label start with an underscore are ignored when legend() is called with no argument.\n"
     ]
    },
    {
     "data": {
      "image/png": "[encoded data removed]",
      "text/plain": [
       "<Figure size 113.386x85.0394 with 1 Axes>"
      ]
     },
     "metadata": {},
     "output_type": "display_data"
    }
   ],
   "source": [
    "sns.set(style=\"ticks\", context='paper', font=\"Arial\")\n",
    "\n",
    "\n",
    "sns.histplot(data=poddf[poddf['Region'] == True], x='Distance (um)', binwidth=1, hue='Pod-adjacent',\n",
    "             palette={'Pod-adjacent': '#f84593', 'Not adjacent': 'black'})\n",
    "\n",
    "plt.plot([20, 20], [0, 18], linestyle='--', linewidth=2*cm, color='black')\n",
    "\n",
    "plt.ylabel('Number of immune cells', fontsize=5)\n",
    "plt.xlabel('Centre-to-centre distance\\n to nearest podocyte (μm)', fontsize=5)\n",
    "\n",
    "plt.ylim([0,15.5])\n",
    "\n",
    "sns.despine(top=True, right=True)\n",
    "plt.tick_params(labelsize=5)\n",
    "plt.legend().remove()\n",
    "\n",
    "plt.xticks([20, 40, 60])\n",
    "ax = plt.gca()\n",
    "ax.spines['left'].set_linewidth(1*cm)\n",
    "ax.spines['bottom'].set_linewidth(1*cm)\n",
    "\n",
    "ax.yaxis.set_tick_params(width=1*cm, length=2)\n",
    "ax.xaxis.set_tick_params(width=1*cm, length=2)\n",
    "\n",
    "plt.savefig('./poddistances.pdf', bbox_inches='tight')\n"
   ]
  },
  {
   "cell_type": "code",
   "execution_count": 24,
   "id": "8349e4d9",
   "metadata": {},
   "outputs": [],
   "source": [
    "poddf.to_csv('poddistances.csv')"
   ]
  },
  {
   "cell_type": "code",
   "execution_count": 25,
   "id": "3759fdb5",
   "metadata": {},
   "outputs": [
    {
     "data": {
      "text/html": [
       "<div>\n",
       "<style scoped>\n",
       "    .dataframe tbody tr th:only-of-type {\n",
       "        vertical-align: middle;\n",
       "    }\n",
       "\n",
       "    .dataframe tbody tr th {\n",
       "        vertical-align: top;\n",
       "    }\n",
       "\n",
       "    .dataframe thead th {\n",
       "        text-align: right;\n",
       "    }\n",
       "</style>\n",
       "<table border=\"1\" class=\"dataframe\">\n",
       "  <thead>\n",
       "    <tr style=\"text-align: right;\">\n",
       "      <th></th>\n",
       "      <th>Sample</th>\n",
       "      <th>x</th>\n",
       "      <th>y</th>\n",
       "      <th>Pod distance</th>\n",
       "      <th>Region</th>\n",
       "      <th>Distance (um)</th>\n",
       "      <th>Pod-adjacent</th>\n",
       "    </tr>\n",
       "  </thead>\n",
       "  <tbody>\n",
       "    <tr>\n",
       "      <th>0</th>\n",
       "      <td>4032_1</td>\n",
       "      <td>1202</td>\n",
       "      <td>789</td>\n",
       "      <td>51.009803</td>\n",
       "      <td>True</td>\n",
       "      <td>36.472009</td>\n",
       "      <td>Not adjacent</td>\n",
       "    </tr>\n",
       "    <tr>\n",
       "      <th>1</th>\n",
       "      <td>4032_1</td>\n",
       "      <td>1454</td>\n",
       "      <td>799</td>\n",
       "      <td>116.606175</td>\n",
       "      <td>False</td>\n",
       "      <td>83.373415</td>\n",
       "      <td>Not adjacent</td>\n",
       "    </tr>\n",
       "    <tr>\n",
       "      <th>2</th>\n",
       "      <td>4032_1</td>\n",
       "      <td>173</td>\n",
       "      <td>1024</td>\n",
       "      <td>234.439758</td>\n",
       "      <td>False</td>\n",
       "      <td>167.624427</td>\n",
       "      <td>Not adjacent</td>\n",
       "    </tr>\n",
       "    <tr>\n",
       "      <th>3</th>\n",
       "      <td>4032_1</td>\n",
       "      <td>1787</td>\n",
       "      <td>1110</td>\n",
       "      <td>147.166572</td>\n",
       "      <td>False</td>\n",
       "      <td>105.224099</td>\n",
       "      <td>Not adjacent</td>\n",
       "    </tr>\n",
       "    <tr>\n",
       "      <th>4</th>\n",
       "      <td>4032_1</td>\n",
       "      <td>1629</td>\n",
       "      <td>869</td>\n",
       "      <td>51.009803</td>\n",
       "      <td>True</td>\n",
       "      <td>36.472009</td>\n",
       "      <td>Not adjacent</td>\n",
       "    </tr>\n",
       "    <tr>\n",
       "      <th>...</th>\n",
       "      <td>...</td>\n",
       "      <td>...</td>\n",
       "      <td>...</td>\n",
       "      <td>...</td>\n",
       "      <td>...</td>\n",
       "      <td>...</td>\n",
       "      <td>...</td>\n",
       "    </tr>\n",
       "    <tr>\n",
       "      <th>1074</th>\n",
       "      <td>4030_2</td>\n",
       "      <td>2858</td>\n",
       "      <td>1808</td>\n",
       "      <td>128.378347</td>\n",
       "      <td>False</td>\n",
       "      <td>91.790518</td>\n",
       "      <td>Not adjacent</td>\n",
       "    </tr>\n",
       "    <tr>\n",
       "      <th>1075</th>\n",
       "      <td>4030_2</td>\n",
       "      <td>3243</td>\n",
       "      <td>716</td>\n",
       "      <td>52.201533</td>\n",
       "      <td>True</td>\n",
       "      <td>37.324096</td>\n",
       "      <td>Not adjacent</td>\n",
       "    </tr>\n",
       "    <tr>\n",
       "      <th>1076</th>\n",
       "      <td>4030_2</td>\n",
       "      <td>1688</td>\n",
       "      <td>284</td>\n",
       "      <td>52.153619</td>\n",
       "      <td>True</td>\n",
       "      <td>37.289838</td>\n",
       "      <td>Not adjacent</td>\n",
       "    </tr>\n",
       "    <tr>\n",
       "      <th>1077</th>\n",
       "      <td>4030_2</td>\n",
       "      <td>2054</td>\n",
       "      <td>1319</td>\n",
       "      <td>164.127999</td>\n",
       "      <td>False</td>\n",
       "      <td>117.351519</td>\n",
       "      <td>Not adjacent</td>\n",
       "    </tr>\n",
       "    <tr>\n",
       "      <th>1078</th>\n",
       "      <td>4030_2</td>\n",
       "      <td>3016</td>\n",
       "      <td>1688</td>\n",
       "      <td>98.615415</td>\n",
       "      <td>False</td>\n",
       "      <td>70.510021</td>\n",
       "      <td>Not adjacent</td>\n",
       "    </tr>\n",
       "  </tbody>\n",
       "</table>\n",
       "<p>1079 rows × 7 columns</p>\n",
       "</div>"
      ],
      "text/plain": [
       "      Sample     x     y  Pod distance  Region  Distance (um)  Pod-adjacent\n",
       "0     4032_1  1202   789     51.009803    True      36.472009  Not adjacent\n",
       "1     4032_1  1454   799    116.606175   False      83.373415  Not adjacent\n",
       "2     4032_1   173  1024    234.439758   False     167.624427  Not adjacent\n",
       "3     4032_1  1787  1110    147.166572   False     105.224099  Not adjacent\n",
       "4     4032_1  1629   869     51.009803    True      36.472009  Not adjacent\n",
       "...      ...   ...   ...           ...     ...            ...           ...\n",
       "1074  4030_2  2858  1808    128.378347   False      91.790518  Not adjacent\n",
       "1075  4030_2  3243   716     52.201533    True      37.324096  Not adjacent\n",
       "1076  4030_2  1688   284     52.153619    True      37.289838  Not adjacent\n",
       "1077  4030_2  2054  1319    164.127999   False     117.351519  Not adjacent\n",
       "1078  4030_2  3016  1688     98.615415   False      70.510021  Not adjacent\n",
       "\n",
       "[1079 rows x 7 columns]"
      ]
     },
     "execution_count": 25,
     "metadata": {},
     "output_type": "execute_result"
    }
   ],
   "source": [
    "poddf"
   ]
  },
  {
   "cell_type": "code",
   "execution_count": null,
   "id": "f063ca88",
   "metadata": {},
   "outputs": [],
   "source": []
  }
 ],
 "metadata": {
  "kernelspec": {
   "display_name": "Python 3 (ipykernel)",
   "language": "python",
   "name": "python3"
  },
  "language_info": {
   "codemirror_mode": {
    "name": "ipython",
    "version": 3
   },
   "file_extension": ".py",
   "mimetype": "text/x-python",
   "name": "python",
   "nbconvert_exporter": "python",
   "pygments_lexer": "ipython3",
   "version": "3.10.0"
  }
 },
 "nbformat": 4,
 "nbformat_minor": 5
}
