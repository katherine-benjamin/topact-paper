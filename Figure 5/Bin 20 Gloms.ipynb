{
 "cells": [
  {
   "cell_type": "code",
   "execution_count": 9,
   "id": "8b37af2f",
   "metadata": {},
   "outputs": [],
   "source": [
    "import pandas as pd\n",
    "import numpy as np\n",
    "import skimage\n",
    "\n",
    "from topact.densetools import density"
   ]
  },
  {
   "cell_type": "code",
   "execution_count": 3,
   "id": "6384f6c1",
   "metadata": {},
   "outputs": [],
   "source": [
    "bin20 = pd.read_csv('../topact-data/kidney-stereoseq/bin20_classifications.csv', \n",
    "                    usecols=['x', 'y', 'mouse_ID', 'clusterid_0_6'])"
   ]
  },
  {
   "cell_type": "code",
   "execution_count": 4,
   "id": "9252d2fa",
   "metadata": {},
   "outputs": [],
   "source": [
    "bin20pods = bin20[bin20['clusterid_0_6'].str.match(r'(.)*pods')]\n",
    "\n",
    "samples = {'control_1': 'ctrl_1',\n",
    "           'control_2': 'ctrl_2',\n",
    "           'control_3': 'ctrl_3',\n",
    "           'control_4': 'ctrl_4',\n",
    "           '4032_1': 'm32_2', # Intentional -- the labels are mixed up in the CSV .\n",
    "           '4032_2': 'm32_1', # Can be verified by comparing coordinates.\n",
    "           '4032_3': 'm32_4',\n",
    "           '4032_4': 'm32_3',\n",
    "           '4030_1': 'm30_1',\n",
    "           '4030_2': 'm30_2'\n",
    "          }"
   ]
  },
  {
   "cell_type": "code",
   "execution_count": 5,
   "id": "d3962452",
   "metadata": {},
   "outputs": [],
   "source": [
    "offsets_csv = pd.read_csv('../topact-data/kidney-stereoseq/offsets.csv')\n",
    "\n",
    "offsets = {}\n",
    "\n",
    "for row in offsets_csv.itertuples():\n",
    "    offsets[row.sample] = (row.xmin, row.ymin)"
   ]
  },
  {
   "cell_type": "code",
   "execution_count": 11,
   "id": "62938618",
   "metadata": {},
   "outputs": [],
   "source": [
    "for sample in samples:\n",
    "    df = bin20pods[bin20pods.mouse_ID == samples[sample]]\n",
    "    xmin, xmax, ymin, ymax = df.x.min(), df.x.max(), df.y.min(), df.y.max()\n",
    "    N, M = xmax - xmin + 1, ymax - ymin + 1\n",
    "    \n",
    "    matrix = np.zeros((M//20 + 1,N//20 + 1))\n",
    "    \n",
    "    for row in df.itertuples():\n",
    "        matrix[(row.y - ymin)//20, (row.x-xmin)//20] = 1\n",
    "\n",
    "    d = density(matrix,1)\n",
    "\n",
    "    pods = skimage.feature.blob_dog(d, threshold=0.2)[:,:2] * 20 + 10\n",
    "\n",
    "    col = pods[:,0].copy()\n",
    "    pods[:,0] = pods[:,1] + xmin\n",
    "    pods[:,1] = col + ymin\n",
    "    \n",
    "    np.savetxt(f'../topact-data/kidney-stereoseq/bin20-gloms/{sample}_gloms.txt', pods, fmt='%1.f')"
   ]
  },
  {
   "cell_type": "code",
   "execution_count": null,
   "id": "277e7db9",
   "metadata": {},
   "outputs": [],
   "source": []
  }
 ],
 "metadata": {
  "kernelspec": {
   "display_name": "Python 3 (ipykernel)",
   "language": "python",
   "name": "python3"
  },
  "language_info": {
   "codemirror_mode": {
    "name": "ipython",
    "version": 3
   },
   "file_extension": ".py",
   "mimetype": "text/x-python",
   "name": "python",
   "nbconvert_exporter": "python",
   "pygments_lexer": "ipython3",
   "version": "3.10.0"
  }
 },
 "nbformat": 4,
 "nbformat_minor": 5
}
