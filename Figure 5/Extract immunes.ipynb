{
 "cells": [
  {
   "cell_type": "code",
   "execution_count": 4,
   "id": "76f0a27f",
   "metadata": {},
   "outputs": [],
   "source": [
    "import numpy as np\n",
    "import skimage\n",
    "from scipy.ndimage import gaussian_filter"
   ]
  },
  {
   "cell_type": "code",
   "execution_count": 12,
   "id": "76f847c5",
   "metadata": {},
   "outputs": [],
   "source": [
    "def get_immunes(sample):\n",
    "    topact_output = np.loadtxt(f'../topact-data/kidney-stereoseq/immune-pod-map/{sample}_topact_output.txt')\n",
    "    img = np.zeros_like(topact_output)\n",
    "    img[np.where(topact_output == 0)] = 1\n",
    "    \n",
    "    smoothed = gaussian_filter(img, sigma=3)    \n",
    "\n",
    "    immunes = skimage.feature.blob_dog(smoothed, threshold=0.2)[:,:2]\n",
    "\n",
    "    return immunes"
   ]
  },
  {
   "cell_type": "code",
   "execution_count": 13,
   "id": "c2f2fa96",
   "metadata": {},
   "outputs": [],
   "source": [
    "SAMPLES = [f'control_{i}' for i in [1,2,3,4]] + [f'4032_{i}' for i in [1,2,3,4]] + ['4030_1', '4030_2']\n",
    "\n",
    "for sample in SAMPLES:\n",
    "    immunes = get_immunes(sample)\n",
    "    immunes[:, [0,1]] = immunes[:, [1,0]]\n",
    "    np.savetxt(f'../topact-data/kidney-stereoseq/immune-coords/{sample}_immunes.txt', immunes, fmt='%1.f')"
   ]
  },
  {
   "cell_type": "code",
   "execution_count": null,
   "id": "d262c91d",
   "metadata": {},
   "outputs": [],
   "source": []
  }
 ],
 "metadata": {
  "kernelspec": {
   "display_name": "Python 3 (ipykernel)",
   "language": "python",
   "name": "python3"
  },
  "language_info": {
   "codemirror_mode": {
    "name": "ipython",
    "version": 3
   },
   "file_extension": ".py",
   "mimetype": "text/x-python",
   "name": "python",
   "nbconvert_exporter": "python",
   "pygments_lexer": "ipython3",
   "version": "3.10.0"
  }
 },
 "nbformat": 4,
 "nbformat_minor": 5
}
