{
 "cells": [
  {
   "cell_type": "code",
   "execution_count": 11,
   "id": "d1917596",
   "metadata": {},
   "outputs": [],
   "source": [
    "import numpy as np\n",
    "import seaborn as sns\n",
    "import pandas as pd\n",
    "\n",
    "import scipy\n",
    "from statannotations.Annotator import Annotator\n",
    "\n",
    "\n",
    "import matplotlib.pyplot as plt\n",
    "\n",
    "plt.rcParams['figure.figsize'] = (7, 7)\n",
    "\n",
    "plt.rc('axes', linewidth=2)\n",
    "sns.set()\n",
    "sns.set_style(\"white\")\n",
    "sns.set_context(\"poster\")\n",
    "\n",
    "sns.set_palette('muted')"
   ]
  },
  {
   "cell_type": "code",
   "execution_count": 84,
   "id": "c21b30f7",
   "metadata": {},
   "outputs": [],
   "source": [
    "cm = 1/2.54\n",
    "plt.rcParams['pdf.fonttype'] = 42"
   ]
  },
  {
   "cell_type": "code",
   "execution_count": 2,
   "id": "b570758f",
   "metadata": {},
   "outputs": [],
   "source": [
    "intensities = pd.read_csv('./vectra_gloms_nongloms.csv')"
   ]
  },
  {
   "cell_type": "code",
   "execution_count": 3,
   "id": "f897908d",
   "metadata": {},
   "outputs": [],
   "source": [
    "intensities = pd.melt(intensities, var_name='Type')"
   ]
  },
  {
   "cell_type": "code",
   "execution_count": 4,
   "id": "670c03f6",
   "metadata": {},
   "outputs": [],
   "source": [
    "def sample_type(name):\n",
    "    return 'Control' if name[0] == 'C' else 'Treated'\n",
    "\n",
    "def patch_type(name):\n",
    "    return 'Non-glom' if name[-6] == 'n' else 'Glom'"
   ]
  },
  {
   "cell_type": "code",
   "execution_count": 5,
   "id": "ca968504",
   "metadata": {},
   "outputs": [],
   "source": [
    "intensities['Sample'] = intensities['Type'].apply(sample_type)"
   ]
  },
  {
   "cell_type": "code",
   "execution_count": 6,
   "id": "5faa872d",
   "metadata": {},
   "outputs": [],
   "source": [
    "intensities['Patch-type'] = intensities['Type'].apply(patch_type)"
   ]
  },
  {
   "cell_type": "code",
   "execution_count": 7,
   "id": "78a07484",
   "metadata": {},
   "outputs": [],
   "source": [
    "intensities['Intensity'] = intensities['value']"
   ]
  },
  {
   "cell_type": "code",
   "execution_count": 8,
   "id": "beacbe1d",
   "metadata": {},
   "outputs": [
    {
     "data": {
      "text/html": [
       "<div>\n",
       "<style scoped>\n",
       "    .dataframe tbody tr th:only-of-type {\n",
       "        vertical-align: middle;\n",
       "    }\n",
       "\n",
       "    .dataframe tbody tr th {\n",
       "        vertical-align: top;\n",
       "    }\n",
       "\n",
       "    .dataframe thead th {\n",
       "        text-align: right;\n",
       "    }\n",
       "</style>\n",
       "<table border=\"1\" class=\"dataframe\">\n",
       "  <thead>\n",
       "    <tr style=\"text-align: right;\">\n",
       "      <th></th>\n",
       "      <th>Type</th>\n",
       "      <th>value</th>\n",
       "      <th>Sample</th>\n",
       "      <th>Patch-type</th>\n",
       "      <th>Intensity</th>\n",
       "    </tr>\n",
       "  </thead>\n",
       "  <tbody>\n",
       "    <tr>\n",
       "      <th>0</th>\n",
       "      <td>Control-Non-glom</td>\n",
       "      <td>10.336199</td>\n",
       "      <td>Control</td>\n",
       "      <td>Non-glom</td>\n",
       "      <td>10.336199</td>\n",
       "    </tr>\n",
       "    <tr>\n",
       "      <th>1</th>\n",
       "      <td>Control-Non-glom</td>\n",
       "      <td>13.391541</td>\n",
       "      <td>Control</td>\n",
       "      <td>Non-glom</td>\n",
       "      <td>13.391541</td>\n",
       "    </tr>\n",
       "    <tr>\n",
       "      <th>2</th>\n",
       "      <td>Control-Non-glom</td>\n",
       "      <td>13.508889</td>\n",
       "      <td>Control</td>\n",
       "      <td>Non-glom</td>\n",
       "      <td>13.508889</td>\n",
       "    </tr>\n",
       "    <tr>\n",
       "      <th>3</th>\n",
       "      <td>Control-Non-glom</td>\n",
       "      <td>14.385007</td>\n",
       "      <td>Control</td>\n",
       "      <td>Non-glom</td>\n",
       "      <td>14.385007</td>\n",
       "    </tr>\n",
       "    <tr>\n",
       "      <th>4</th>\n",
       "      <td>Control-Non-glom</td>\n",
       "      <td>16.773695</td>\n",
       "      <td>Control</td>\n",
       "      <td>Non-glom</td>\n",
       "      <td>16.773695</td>\n",
       "    </tr>\n",
       "    <tr>\n",
       "      <th>...</th>\n",
       "      <td>...</td>\n",
       "      <td>...</td>\n",
       "      <td>...</td>\n",
       "      <td>...</td>\n",
       "      <td>...</td>\n",
       "    </tr>\n",
       "    <tr>\n",
       "      <th>295</th>\n",
       "      <td>IMQ-Glom</td>\n",
       "      <td>19.251921</td>\n",
       "      <td>Treated</td>\n",
       "      <td>Glom</td>\n",
       "      <td>19.251921</td>\n",
       "    </tr>\n",
       "    <tr>\n",
       "      <th>296</th>\n",
       "      <td>IMQ-Glom</td>\n",
       "      <td>19.151830</td>\n",
       "      <td>Treated</td>\n",
       "      <td>Glom</td>\n",
       "      <td>19.151830</td>\n",
       "    </tr>\n",
       "    <tr>\n",
       "      <th>297</th>\n",
       "      <td>IMQ-Glom</td>\n",
       "      <td>18.839120</td>\n",
       "      <td>Treated</td>\n",
       "      <td>Glom</td>\n",
       "      <td>18.839120</td>\n",
       "    </tr>\n",
       "    <tr>\n",
       "      <th>298</th>\n",
       "      <td>IMQ-Glom</td>\n",
       "      <td>18.351790</td>\n",
       "      <td>Treated</td>\n",
       "      <td>Glom</td>\n",
       "      <td>18.351790</td>\n",
       "    </tr>\n",
       "    <tr>\n",
       "      <th>299</th>\n",
       "      <td>IMQ-Glom</td>\n",
       "      <td>18.226508</td>\n",
       "      <td>Treated</td>\n",
       "      <td>Glom</td>\n",
       "      <td>18.226508</td>\n",
       "    </tr>\n",
       "  </tbody>\n",
       "</table>\n",
       "<p>300 rows × 5 columns</p>\n",
       "</div>"
      ],
      "text/plain": [
       "                 Type      value   Sample Patch-type  Intensity\n",
       "0    Control-Non-glom  10.336199  Control   Non-glom  10.336199\n",
       "1    Control-Non-glom  13.391541  Control   Non-glom  13.391541\n",
       "2    Control-Non-glom  13.508889  Control   Non-glom  13.508889\n",
       "3    Control-Non-glom  14.385007  Control   Non-glom  14.385007\n",
       "4    Control-Non-glom  16.773695  Control   Non-glom  16.773695\n",
       "..                ...        ...      ...        ...        ...\n",
       "295          IMQ-Glom  19.251921  Treated       Glom  19.251921\n",
       "296          IMQ-Glom  19.151830  Treated       Glom  19.151830\n",
       "297          IMQ-Glom  18.839120  Treated       Glom  18.839120\n",
       "298          IMQ-Glom  18.351790  Treated       Glom  18.351790\n",
       "299          IMQ-Glom  18.226508  Treated       Glom  18.226508\n",
       "\n",
       "[300 rows x 5 columns]"
      ]
     },
     "execution_count": 8,
     "metadata": {},
     "output_type": "execute_result"
    }
   ],
   "source": [
    "intensities"
   ]
  },
  {
   "cell_type": "code",
   "execution_count": 139,
   "id": "58bf2fe5",
   "metadata": {},
   "outputs": [
    {
     "name": "stdout",
     "output_type": "stream",
     "text": [
      "p-value annotation legend:\n",
      "      ns: 5.00e-02 < p <= 1.00e+00\n",
      "       *: 1.00e-02 < p <= 5.00e-02\n",
      "      **: 1.00e-03 < p <= 1.00e-02\n",
      "     ***: 1.00e-04 < p <= 1.00e-03\n",
      "    ****: p <= 1.00e-04\n",
      "\n",
      "Treated_Glom vs. Treated_Non-glom: Welch's t-test independent samples, P_val:5.626e-12 t=7.438e+00\n",
      "Control_Glom vs. Control_Non-glom: Welch's t-test independent samples, P_val:6.288e-01 t=-3.294e-01\n"
     ]
    },
    {
     "data": {
      "image/png": "[encoded data removed]",
      "text/plain": [
       "<Figure size 113.386x70.8661 with 1 Axes>"
      ]
     },
     "metadata": {},
     "output_type": "display_data"
    }
   ],
   "source": [
    "# b = sns.barplot(data=intensities, x='Sample', hue='Patch-type', y='Intensity',\n",
    "#                 edgecolor='black', linewidth=3, capsize=.1, \n",
    "#                 palette={'Glom': '#4878d0', 'Non-glom': '#ee854a'})\n",
    "\n",
    "# b.set_xlabel(\"\",fontsize=40)\n",
    "# b.set_ylabel(\"CD45 Intensity\",fontsize=40)\n",
    "# b.tick_params(labelsize=36)\n",
    "\n",
    "# ax = plt.gca()\n",
    "sns.set(style=\"ticks\", context='paper', font=\"Arial\")\n",
    "\n",
    "plt.rcParams['figure.figsize'] = (4*cm, 2.5*cm)\n",
    "\n",
    "\n",
    "ax = plt.gca()\n",
    "\n",
    "\n",
    "plot_params = dict(data=intensities, x='Sample',  hue='Patch-type', y='Intensity', hue_order=[\"Glom\", \"Non-glom\"],\n",
    "                    linewidth=1*cm, showfliers=False, boxprops={'edgecolor': 'black'},\n",
    "                   medianprops={'color': 'black'}, whiskerprops = {'color': 'black'}, capprops = {'color': 'black'},\n",
    "                   palette={'Glom': '#4878d0', 'Non-glom': '#ee854a'}) # errorbar='se',\n",
    "\n",
    "\n",
    "b = sns.boxplot(ax=ax, **plot_params)\n",
    "\n",
    "\n",
    "sns.stripplot(\n",
    "    data=intensities,\n",
    "    x=\"Sample\", \n",
    "    y=\"Intensity\", \n",
    "    hue=\"Patch-type\", s=1.5*cm, linewidth=0, edgecolor='black', alpha=1, facecolor='black',\n",
    "    dodge=True, ax=ax, jitter=0.1, hue_order=[\"Glom\", \"Non-glom\"], palette={'Glom': 'black', 'Non-glom': 'black'}\n",
    ")\n",
    "\n",
    "\n",
    "b.set_xlabel(\"\",fontsize=5)\n",
    "b.set_ylabel(\"Mean intensity\",fontsize=5)\n",
    "b.tick_params(labelsize=5)\n",
    "\n",
    "pairs = [(('Control', 'Glom'), ('Control', 'Non-glom')),\n",
    "         (('Treated', 'Glom'), ('Treated', 'Non-glom'))]\n",
    "annotator = Annotator(ax, pairs, **plot_params)\n",
    "annotator.configure(line_height=0.1, line_width=1*cm)\n",
    "annotator._pvalue_format.fontsize = 5\n",
    "annotator.configure(test=\"t-test_welch\")\n",
    "annotator.apply_test(alternative='greater')\n",
    "annotator.annotate()\n",
    "\n",
    "ax.get_legend().remove()\n",
    "\n",
    "ax.spines['left'].set_linewidth(1*cm)\n",
    "ax.spines['bottom'].set_linewidth(1*cm)\n",
    "# ax.get_legend().remove()\n",
    "\n",
    "sns.despine(top=True, right=True)\n",
    "\n",
    "plt.yticks([10,15,20,25,30,35])\n",
    "ax.yaxis.set_tick_params(width=1*cm, length=2)\n",
    "ax.xaxis.set_tick_params(width=1*cm, length=2)\n",
    "\n",
    "plt.savefig('vectra_glomnonglom.pdf', bbox_inches='tight')"
   ]
  },
  {
   "cell_type": "code",
   "execution_count": 86,
   "id": "4030ff72",
   "metadata": {},
   "outputs": [],
   "source": [
    "ratios = pd.read_csv('./vectra_inner_outer.csv')"
   ]
  },
  {
   "cell_type": "code",
   "execution_count": 87,
   "id": "aca34a86",
   "metadata": {},
   "outputs": [],
   "source": [
    "ratios = pd.melt(ratios, var_name='Sample')\n",
    "ratios['Ratio'] = ratios['value']"
   ]
  },
  {
   "cell_type": "code",
   "execution_count": 88,
   "id": "9566d5d3",
   "metadata": {},
   "outputs": [],
   "source": [
    "ratios['Marker'] = 'All'"
   ]
  },
  {
   "cell_type": "code",
   "execution_count": 89,
   "id": "0d1f6a6c",
   "metadata": {},
   "outputs": [],
   "source": [
    "tcellratios = pd.read_csv('./vectra_inner_outer_tcells.csv')"
   ]
  },
  {
   "cell_type": "code",
   "execution_count": 90,
   "id": "16c57b1a",
   "metadata": {},
   "outputs": [],
   "source": [
    "tcellratios = pd.melt(tcellratios, var_name='Sample')"
   ]
  },
  {
   "cell_type": "code",
   "execution_count": 91,
   "id": "1e46dac4",
   "metadata": {},
   "outputs": [],
   "source": [
    "tcellratios['Ratio'] = tcellratios['value']"
   ]
  },
  {
   "cell_type": "code",
   "execution_count": 92,
   "id": "803a898f",
   "metadata": {},
   "outputs": [],
   "source": [
    "tcellratios['Marker'] = 'T-cell'"
   ]
  },
  {
   "cell_type": "code",
   "execution_count": 93,
   "id": "0a782fbc",
   "metadata": {},
   "outputs": [],
   "source": [
    "bcellratios = pd.read_csv('./vectra_inner_outer_cd19.csv')"
   ]
  },
  {
   "cell_type": "code",
   "execution_count": 94,
   "id": "e7161758",
   "metadata": {},
   "outputs": [],
   "source": [
    "bcellratios = pd.melt(bcellratios, var_name='Sample')"
   ]
  },
  {
   "cell_type": "code",
   "execution_count": 95,
   "id": "462a4b29",
   "metadata": {},
   "outputs": [],
   "source": [
    "bcellratios['Ratio'] = bcellratios['value']"
   ]
  },
  {
   "cell_type": "code",
   "execution_count": 96,
   "id": "a0c13f33",
   "metadata": {},
   "outputs": [],
   "source": [
    "bcellratios['Marker'] = 'B-cell'"
   ]
  },
  {
   "cell_type": "code",
   "execution_count": 97,
   "id": "560dee17",
   "metadata": {},
   "outputs": [],
   "source": [
    "myeloidratios = pd.read_csv('./vectra_inner_outer_cd11b.csv')\n",
    "myeloidratios = pd.melt(myeloidratios, var_name='Sample')\n",
    "myeloidratios['Ratio'] = myeloidratios['value']\n",
    "myeloidratios['Marker'] = 'Myeloid'"
   ]
  },
  {
   "cell_type": "code",
   "execution_count": 98,
   "id": "d62099cb",
   "metadata": {},
   "outputs": [],
   "source": [
    "allratios = pd.concat([ratios, tcellratios, bcellratios, myeloidratios], axis=0)"
   ]
  },
  {
   "cell_type": "code",
   "execution_count": 124,
   "id": "8469ddfb",
   "metadata": {},
   "outputs": [
    {
     "data": {
      "text/html": [
       "<div>\n",
       "<style scoped>\n",
       "    .dataframe tbody tr th:only-of-type {\n",
       "        vertical-align: middle;\n",
       "    }\n",
       "\n",
       "    .dataframe tbody tr th {\n",
       "        vertical-align: top;\n",
       "    }\n",
       "\n",
       "    .dataframe thead th {\n",
       "        text-align: right;\n",
       "    }\n",
       "</style>\n",
       "<table border=\"1\" class=\"dataframe\">\n",
       "  <thead>\n",
       "    <tr style=\"text-align: right;\">\n",
       "      <th></th>\n",
       "      <th>Sample</th>\n",
       "      <th>value</th>\n",
       "      <th>Ratio</th>\n",
       "      <th>Marker</th>\n",
       "    </tr>\n",
       "  </thead>\n",
       "  <tbody>\n",
       "    <tr>\n",
       "      <th>0</th>\n",
       "      <td>Control</td>\n",
       "      <td>0.444711</td>\n",
       "      <td>0.444711</td>\n",
       "      <td>Myeloid</td>\n",
       "    </tr>\n",
       "    <tr>\n",
       "      <th>1</th>\n",
       "      <td>Control</td>\n",
       "      <td>NaN</td>\n",
       "      <td>NaN</td>\n",
       "      <td>Myeloid</td>\n",
       "    </tr>\n",
       "    <tr>\n",
       "      <th>2</th>\n",
       "      <td>Control</td>\n",
       "      <td>0.627687</td>\n",
       "      <td>0.627687</td>\n",
       "      <td>Myeloid</td>\n",
       "    </tr>\n",
       "    <tr>\n",
       "      <th>3</th>\n",
       "      <td>Control</td>\n",
       "      <td>1.487481</td>\n",
       "      <td>1.487481</td>\n",
       "      <td>Myeloid</td>\n",
       "    </tr>\n",
       "    <tr>\n",
       "      <th>4</th>\n",
       "      <td>Control</td>\n",
       "      <td>NaN</td>\n",
       "      <td>NaN</td>\n",
       "      <td>Myeloid</td>\n",
       "    </tr>\n",
       "    <tr>\n",
       "      <th>...</th>\n",
       "      <td>...</td>\n",
       "      <td>...</td>\n",
       "      <td>...</td>\n",
       "      <td>...</td>\n",
       "    </tr>\n",
       "    <tr>\n",
       "      <th>145</th>\n",
       "      <td>Treated</td>\n",
       "      <td>1.681885</td>\n",
       "      <td>1.681885</td>\n",
       "      <td>Myeloid</td>\n",
       "    </tr>\n",
       "    <tr>\n",
       "      <th>146</th>\n",
       "      <td>Treated</td>\n",
       "      <td>2.748920</td>\n",
       "      <td>2.748920</td>\n",
       "      <td>Myeloid</td>\n",
       "    </tr>\n",
       "    <tr>\n",
       "      <th>147</th>\n",
       "      <td>Treated</td>\n",
       "      <td>1.344759</td>\n",
       "      <td>1.344759</td>\n",
       "      <td>Myeloid</td>\n",
       "    </tr>\n",
       "    <tr>\n",
       "      <th>148</th>\n",
       "      <td>Treated</td>\n",
       "      <td>1.485602</td>\n",
       "      <td>1.485602</td>\n",
       "      <td>Myeloid</td>\n",
       "    </tr>\n",
       "    <tr>\n",
       "      <th>149</th>\n",
       "      <td>Treated</td>\n",
       "      <td>2.527449</td>\n",
       "      <td>2.527449</td>\n",
       "      <td>Myeloid</td>\n",
       "    </tr>\n",
       "  </tbody>\n",
       "</table>\n",
       "<p>150 rows × 4 columns</p>\n",
       "</div>"
      ],
      "text/plain": [
       "      Sample     value     Ratio   Marker\n",
       "0    Control  0.444711  0.444711  Myeloid\n",
       "1    Control       NaN       NaN  Myeloid\n",
       "2    Control  0.627687  0.627687  Myeloid\n",
       "3    Control  1.487481  1.487481  Myeloid\n",
       "4    Control       NaN       NaN  Myeloid\n",
       "..       ...       ...       ...      ...\n",
       "145  Treated  1.681885  1.681885  Myeloid\n",
       "146  Treated  2.748920  2.748920  Myeloid\n",
       "147  Treated  1.344759  1.344759  Myeloid\n",
       "148  Treated  1.485602  1.485602  Myeloid\n",
       "149  Treated  2.527449  2.527449  Myeloid\n",
       "\n",
       "[150 rows x 4 columns]"
      ]
     },
     "execution_count": 124,
     "metadata": {},
     "output_type": "execute_result"
    }
   ],
   "source": [
    "myeloidratios"
   ]
  },
  {
   "cell_type": "code",
   "execution_count": 119,
   "id": "a58b0c93",
   "metadata": {},
   "outputs": [
    {
     "data": {
      "text/html": [
       "<div>\n",
       "<style scoped>\n",
       "    .dataframe tbody tr th:only-of-type {\n",
       "        vertical-align: middle;\n",
       "    }\n",
       "\n",
       "    .dataframe tbody tr th {\n",
       "        vertical-align: top;\n",
       "    }\n",
       "\n",
       "    .dataframe thead th {\n",
       "        text-align: right;\n",
       "    }\n",
       "</style>\n",
       "<table border=\"1\" class=\"dataframe\">\n",
       "  <thead>\n",
       "    <tr style=\"text-align: right;\">\n",
       "      <th></th>\n",
       "      <th>Sample</th>\n",
       "      <th>value</th>\n",
       "      <th>Ratio</th>\n",
       "      <th>Marker</th>\n",
       "    </tr>\n",
       "  </thead>\n",
       "  <tbody>\n",
       "    <tr>\n",
       "      <th>0</th>\n",
       "      <td>Control</td>\n",
       "      <td>0.298817</td>\n",
       "      <td>0.298817</td>\n",
       "      <td>T-cell</td>\n",
       "    </tr>\n",
       "    <tr>\n",
       "      <th>1</th>\n",
       "      <td>Control</td>\n",
       "      <td>1.893333</td>\n",
       "      <td>1.893333</td>\n",
       "      <td>T-cell</td>\n",
       "    </tr>\n",
       "    <tr>\n",
       "      <th>2</th>\n",
       "      <td>Control</td>\n",
       "      <td>1.077378</td>\n",
       "      <td>1.077378</td>\n",
       "      <td>T-cell</td>\n",
       "    </tr>\n",
       "    <tr>\n",
       "      <th>3</th>\n",
       "      <td>Control</td>\n",
       "      <td>1.138212</td>\n",
       "      <td>1.138212</td>\n",
       "      <td>T-cell</td>\n",
       "    </tr>\n",
       "    <tr>\n",
       "      <th>4</th>\n",
       "      <td>Control</td>\n",
       "      <td>2.497889</td>\n",
       "      <td>2.497889</td>\n",
       "      <td>T-cell</td>\n",
       "    </tr>\n",
       "    <tr>\n",
       "      <th>...</th>\n",
       "      <td>...</td>\n",
       "      <td>...</td>\n",
       "      <td>...</td>\n",
       "      <td>...</td>\n",
       "    </tr>\n",
       "    <tr>\n",
       "      <th>85</th>\n",
       "      <td>Treated</td>\n",
       "      <td>2.073566</td>\n",
       "      <td>2.073566</td>\n",
       "      <td>T-cell</td>\n",
       "    </tr>\n",
       "    <tr>\n",
       "      <th>86</th>\n",
       "      <td>Treated</td>\n",
       "      <td>1.984047</td>\n",
       "      <td>1.984047</td>\n",
       "      <td>T-cell</td>\n",
       "    </tr>\n",
       "    <tr>\n",
       "      <th>87</th>\n",
       "      <td>Treated</td>\n",
       "      <td>1.896780</td>\n",
       "      <td>1.896780</td>\n",
       "      <td>T-cell</td>\n",
       "    </tr>\n",
       "    <tr>\n",
       "      <th>88</th>\n",
       "      <td>Treated</td>\n",
       "      <td>1.841425</td>\n",
       "      <td>1.841425</td>\n",
       "      <td>T-cell</td>\n",
       "    </tr>\n",
       "    <tr>\n",
       "      <th>89</th>\n",
       "      <td>Treated</td>\n",
       "      <td>2.077495</td>\n",
       "      <td>2.077495</td>\n",
       "      <td>T-cell</td>\n",
       "    </tr>\n",
       "  </tbody>\n",
       "</table>\n",
       "<p>90 rows × 4 columns</p>\n",
       "</div>"
      ],
      "text/plain": [
       "     Sample     value     Ratio  Marker\n",
       "0   Control  0.298817  0.298817  T-cell\n",
       "1   Control  1.893333  1.893333  T-cell\n",
       "2   Control  1.077378  1.077378  T-cell\n",
       "3   Control  1.138212  1.138212  T-cell\n",
       "4   Control  2.497889  2.497889  T-cell\n",
       "..      ...       ...       ...     ...\n",
       "85  Treated  2.073566  2.073566  T-cell\n",
       "86  Treated  1.984047  1.984047  T-cell\n",
       "87  Treated  1.896780  1.896780  T-cell\n",
       "88  Treated  1.841425  1.841425  T-cell\n",
       "89  Treated  2.077495  2.077495  T-cell\n",
       "\n",
       "[90 rows x 4 columns]"
      ]
     },
     "execution_count": 119,
     "metadata": {},
     "output_type": "execute_result"
    }
   ],
   "source": [
    "tcellratios"
   ]
  },
  {
   "cell_type": "code",
   "execution_count": 138,
   "id": "831d799b",
   "metadata": {
    "scrolled": false
   },
   "outputs": [
    {
     "name": "stdout",
     "output_type": "stream",
     "text": [
      "p-value annotation legend:\n",
      "      ns: 5.00e-02 < p <= 1.00e+00\n",
      "       *: 1.00e-02 < p <= 5.00e-02\n",
      "      **: 1.00e-03 < p <= 1.00e-02\n",
      "     ***: 1.00e-04 < p <= 1.00e-03\n",
      "    ****: p <= 1.00e-04\n",
      "\n",
      "T-cell_Control vs. T-cell_Treated: Welch's t-test independent samples, P_val:2.663e-06 t=-4.957e+00\n",
      "All_Control vs. All_Treated: Welch's t-test independent samples, P_val:7.276e-05 t=-3.917e+00\n",
      "B-cell_Control vs. B-cell_Treated: Welch's t-test independent samples, P_val:2.459e-01 t=-6.895e-01\n",
      "Myeloid_Control vs. Myeloid_Treated: Welch's t-test independent samples, P_val:2.308e-03 t=-2.890e+00\n"
     ]
    },
    {
     "data": {
      "image/png": "[encoded data removed]",
      "text/plain": [
       "<Figure size 113.386x70.8661 with 1 Axes>"
      ]
     },
     "metadata": {},
     "output_type": "display_data"
    }
   ],
   "source": [
    "sns.set(style=\"ticks\", context='paper', font=\"Arial\")\n",
    "\n",
    "plt.rcParams['figure.figsize'] = (4*cm, 2.5*cm)\n",
    "\n",
    "\n",
    "ax = plt.gca()\n",
    "\n",
    "plot_params = dict(data=allratios, x='Marker', y='Ratio', hue='Sample', dodge=True,\n",
    "                   linewidth=0, s=1.5*cm, alpha=1, palette={'Treated': '#f84593', 'Control': 'black'})\n",
    "\n",
    "b = sns.swarmplot(ax=ax, **plot_params)\n",
    "\n",
    "\n",
    "\n",
    "pairs = [\n",
    "#     (('All', 'Control'), ('T-cell', 'Control')),\n",
    "         (('T-cell', 'Control'), ('T-cell', 'Treated')),\n",
    "         (('All', 'Control'), ('All', 'Treated')),\n",
    "         (('B-cell', 'Control'), ('B-cell', 'Treated')),\n",
    "         (('Myeloid', 'Control'), ('Myeloid', 'Treated')),\n",
    "\n",
    "#         (('All', 'Treated'), ('T-cell', 'Treated'))\n",
    "\n",
    "        ]\n",
    "annotator = Annotator(ax, pairs, **plot_params)\n",
    "annotator.configure(line_height=0.1, line_width=1*cm)\n",
    "annotator._pvalue_format.fontsize = 5\n",
    "annotator.configure(test=\"t-test_welch\")\n",
    "annotator.apply_test(alternative='less')\n",
    "annotator.annotate()\n",
    "\n",
    "\n",
    "\n",
    "b.set_xlabel(\"\",fontsize=5)\n",
    "b.set_ylabel(\"Mean peripheral/central\\nintensity ratio\",fontsize=5)\n",
    "b.tick_params(labelsize=5)\n",
    "\n",
    "sns.despine(top=True, right=True)\n",
    "\n",
    "# plt.ylim([0.8,1.2])\n",
    "# plt.xlim([-0.5,1.5])\n",
    "ax.spines['left'].set_linewidth(1*cm)\n",
    "ax.spines['bottom'].set_linewidth(1*cm)\n",
    "ax.yaxis.set_tick_params(width=1*cm, length=2)\n",
    "ax.xaxis.set_tick_params(width=1*cm, length=2)\n",
    "\n",
    "plt.legend().remove()\n",
    "\n",
    "plt.savefig('./inner_outer.pdf', bbox_inches='tight')"
   ]
  },
  {
   "cell_type": "code",
   "execution_count": 14,
   "id": "5bb3d5ce",
   "metadata": {},
   "outputs": [],
   "source": [
    "ti = intensities[intensities.Sample == 'Treated']"
   ]
  },
  {
   "cell_type": "code",
   "execution_count": 18,
   "id": "40e52c0a",
   "metadata": {},
   "outputs": [],
   "source": [
    "gl = ti[ti[\"Patch-type\"] == 'Glom'].Intensity"
   ]
  },
  {
   "cell_type": "code",
   "execution_count": 20,
   "id": "65a48ffe",
   "metadata": {},
   "outputs": [],
   "source": [
    "ng = ti[ti[\"Patch-type\"] == 'Non-glom'].Intensity"
   ]
  },
  {
   "cell_type": "code",
   "execution_count": 42,
   "id": "17320020",
   "metadata": {},
   "outputs": [
    {
     "data": {
      "text/plain": [
       "(41,)"
      ]
     },
     "execution_count": 42,
     "metadata": {},
     "output_type": "execute_result"
    }
   ],
   "source": [
    "gl.shape"
   ]
  },
  {
   "cell_type": "code",
   "execution_count": 44,
   "id": "d73dda28",
   "metadata": {},
   "outputs": [
    {
     "data": {
      "text/plain": [
       "(10,)"
      ]
     },
     "execution_count": 44,
     "metadata": {},
     "output_type": "execute_result"
    }
   ],
   "source": [
    "ng.shape"
   ]
  },
  {
   "cell_type": "code",
   "execution_count": 40,
   "id": "a2ba5aed",
   "metadata": {
    "scrolled": true
   },
   "outputs": [
    {
     "data": {
      "text/plain": [
       "174.28621951219512"
      ]
     },
     "execution_count": 40,
     "metadata": {},
     "output_type": "execute_result"
    }
   ],
   "source": [
    "np.mean(gl)"
   ]
  },
  {
   "cell_type": "code",
   "execution_count": 23,
   "id": "0c56f21d",
   "metadata": {},
   "outputs": [
    {
     "data": {
      "text/plain": [
       "array([2.83126826])"
      ]
     },
     "execution_count": 23,
     "metadata": {},
     "output_type": "execute_result"
    }
   ],
   "source": [
    "np.std(gl, ddof=1)/np.sqrt(np.shape(gl))"
   ]
  },
  {
   "cell_type": "code",
   "execution_count": 24,
   "id": "a7217276",
   "metadata": {},
   "outputs": [
    {
     "data": {
      "text/plain": [
       "160.01597900000002"
      ]
     },
     "execution_count": 24,
     "metadata": {},
     "output_type": "execute_result"
    }
   ],
   "source": [
    "np.mean(ng)"
   ]
  },
  {
   "cell_type": "code",
   "execution_count": 25,
   "id": "0946c2e8",
   "metadata": {},
   "outputs": [
    {
     "data": {
      "text/plain": [
       "array([3.59519824])"
      ]
     },
     "execution_count": 25,
     "metadata": {},
     "output_type": "execute_result"
    }
   ],
   "source": [
    "np.std(ng, ddof=1)/np.sqrt(np.shape(ng))"
   ]
  },
  {
   "cell_type": "code",
   "execution_count": 30,
   "id": "891a1ef8",
   "metadata": {},
   "outputs": [],
   "source": [
    "tr = ratios[ratios.Sample == 'Treated'].Ratio"
   ]
  },
  {
   "cell_type": "code",
   "execution_count": 32,
   "id": "cc91f3fb",
   "metadata": {},
   "outputs": [
    {
     "data": {
      "text/plain": [
       "1.0189919604444444"
      ]
     },
     "execution_count": 32,
     "metadata": {},
     "output_type": "execute_result"
    }
   ],
   "source": [
    "np.mean(tr)"
   ]
  },
  {
   "cell_type": "code",
   "execution_count": 33,
   "id": "583de473",
   "metadata": {},
   "outputs": [],
   "source": [
    "co = ratios[ratios.Sample == 'Control'].Ratio"
   ]
  },
  {
   "cell_type": "code",
   "execution_count": 34,
   "id": "c8d7734a",
   "metadata": {},
   "outputs": [
    {
     "data": {
      "text/plain": [
       "0.9933985193333335"
      ]
     },
     "execution_count": 34,
     "metadata": {},
     "output_type": "execute_result"
    }
   ],
   "source": [
    "np.mean(co)"
   ]
  },
  {
   "cell_type": "code",
   "execution_count": 35,
   "id": "8d6bd2f3",
   "metadata": {},
   "outputs": [
    {
     "data": {
      "text/plain": [
       "array([0.00585139])"
      ]
     },
     "execution_count": 35,
     "metadata": {},
     "output_type": "execute_result"
    }
   ],
   "source": [
    "np.std(tr, ddof=1)/np.sqrt(np.shape(tr))"
   ]
  },
  {
   "cell_type": "code",
   "execution_count": 36,
   "id": "fae982d7",
   "metadata": {},
   "outputs": [
    {
     "data": {
      "text/plain": [
       "array([0.00447656])"
      ]
     },
     "execution_count": 36,
     "metadata": {},
     "output_type": "execute_result"
    }
   ],
   "source": [
    "np.std(co, ddof=1)/np.sqrt(np.shape(co))"
   ]
  },
  {
   "cell_type": "code",
   "execution_count": null,
   "id": "a26b1a4f",
   "metadata": {},
   "outputs": [],
   "source": []
  }
 ],
 "metadata": {
  "kernelspec": {
   "display_name": "Python 3 (ipykernel)",
   "language": "python",
   "name": "python3"
  },
  "language_info": {
   "codemirror_mode": {
    "name": "ipython",
    "version": 3
   },
   "file_extension": ".py",
   "mimetype": "text/x-python",
   "name": "python",
   "nbconvert_exporter": "python",
   "pygments_lexer": "ipython3",
   "version": "3.10.0"
  }
 },
 "nbformat": 4,
 "nbformat_minor": 5
}
