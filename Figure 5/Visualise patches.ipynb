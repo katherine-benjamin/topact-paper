{
 "cells": [
  {
   "cell_type": "code",
   "execution_count": 14,
   "id": "2e0b9a09",
   "metadata": {},
   "outputs": [],
   "source": [
    "import numpy as np\n",
    "import pandas as pd\n",
    "import matplotlib.pyplot as plt\n",
    "\n",
    "from mpl_toolkits.axes_grid1.anchored_artists import AnchoredSizeBar\n",
    "import matplotlib.font_manager as fm"
   ]
  },
  {
   "cell_type": "code",
   "execution_count": 4,
   "id": "a8f30eb1",
   "metadata": {},
   "outputs": [],
   "source": [
    "samples = [f'control_{i}' for i in range(1,5)] + [f'4030_{i}' for i in range(1,3)] + [f'4032_{i}' for i in range(1,5)]\n",
    "# samples = [f'4030_{i}' for i in range(1,3)]\n",
    "offsets_csv = pd.read_csv('../topact-data/kidney-stereoseq/offsets.csv')\n",
    "\n",
    "offsets = {}\n",
    "\n",
    "for row in offsets_csv.itertuples():\n",
    "    offsets[row.sample] = (row.xmin, row.ymin)"
   ]
  },
  {
   "cell_type": "code",
   "execution_count": 43,
   "id": "322b23ec",
   "metadata": {},
   "outputs": [
    {
     "data": {
      "image/png": "[encoded data removed]",
      "text/plain": [
       "<Figure size 56.6929x56.6929 with 1 Axes>"
      ]
     },
     "metadata": {},
     "output_type": "display_data"
    }
   ],
   "source": [
    "cm = 1/2.54\n",
    "plt.rcParams['figure.figsize'] = (2*cm, 2*cm)\n",
    "\n",
    "\n",
    "sample = 'control_4'\n",
    "i=4\n",
    "\n",
    "x_off, y_off = offsets[sample]\n",
    "\n",
    "gloms = np.loadtxt(f'../topact-data/kidney-stereoseq/bin20-gloms/{sample}_gloms.txt', dtype='int')\n",
    "gloms[:,0] -= x_off\n",
    "gloms[:,1] -= y_off\n",
    "\n",
    "x,y = gloms[i]\n",
    "\n",
    "    \n",
    "image = np.loadtxt(f'../topact-data/kidney-stereoseq/immune-patches/{sample}-x={x}-y={y}.txt')\n",
    "\n",
    "plt.imshow(image, interpolation = 'None', cmap = 'Purples')\n",
    "plt.xlim([0,150])\n",
    "plt.ylim([0,150])\n",
    "\n",
    "ax = plt.gca()\n",
    "scalebar = AnchoredSizeBar(ax.transData,\n",
    "                   28, '', 'lower left', # 20um\n",
    "                   borderpad=5,\n",
    "                   color='black',\n",
    "                   size_vertical=2,\n",
    "                   frameon=False,\n",
    "                   sep=2,\n",
    "                   fontproperties=fm.FontProperties(size=0))\n",
    "\n",
    "plt.xticks([])\n",
    "plt.yticks([])\n",
    "ax.add_artist(scalebar)\n",
    "\n",
    "plt.savefig('controlpatch.png', dpi=600, bbox_inches='tight')"
   ]
  },
  {
   "cell_type": "code",
   "execution_count": 46,
   "id": "1d8dde9d",
   "metadata": {},
   "outputs": [
    {
     "data": {
      "image/png": "[encoded data removed]",
      "text/plain": [
       "<Figure size 56.6929x56.6929 with 1 Axes>"
      ]
     },
     "metadata": {},
     "output_type": "display_data"
    }
   ],
   "source": [
    "sample = '4032_1'\n",
    "i=9\n",
    "\n",
    "x_off, y_off = offsets[sample]\n",
    "\n",
    "gloms = np.loadtxt(f'../topact-data/kidney-stereoseq/bin20-gloms/{sample}_gloms.txt', dtype='int')\n",
    "gloms[:,0] -= x_off\n",
    "gloms[:,1] -= y_off\n",
    "\n",
    "x,y = gloms[i]\n",
    "\n",
    "    \n",
    "image = np.loadtxt(f'../topact-data/kidney-stereoseq/immune-patches/{sample}-x={x}-y={y}.txt')\n",
    "\n",
    "plt.imshow(image, interpolation = 'None', cmap = 'Purples')\n",
    "plt.xlim([0,150])\n",
    "plt.ylim([0,150])\n",
    "\n",
    "ax = plt.gca()\n",
    "scalebar = AnchoredSizeBar(ax.transData,\n",
    "                   28, '', 'lower left', # 20um\n",
    "                   borderpad=5,\n",
    "                   color='black',\n",
    "                   size_vertical=2,\n",
    "                   frameon=False,\n",
    "                   sep=2,\n",
    "                   fontproperties=fm.FontProperties(size=0))\n",
    "\n",
    "plt.xticks([])\n",
    "plt.yticks([])\n",
    "ax.add_artist(scalebar)\n",
    "\n",
    "plt.savefig('treatedpatch.png', dpi=600, bbox_inches='tight')"
   ]
  },
  {
   "cell_type": "code",
   "execution_count": null,
   "id": "721b58b2",
   "metadata": {},
   "outputs": [],
   "source": []
  }
 ],
 "metadata": {
  "kernelspec": {
   "display_name": "Python 3 (ipykernel)",
   "language": "python",
   "name": "python3"
  },
  "language_info": {
   "codemirror_mode": {
    "name": "ipython",
    "version": 3
   },
   "file_extension": ".py",
   "mimetype": "text/x-python",
   "name": "python",
   "nbconvert_exporter": "python",
   "pygments_lexer": "ipython3",
   "version": "3.10.0"
  }
 },
 "nbformat": 4,
 "nbformat_minor": 5
}
