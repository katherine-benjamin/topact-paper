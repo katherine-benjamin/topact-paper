{
 "cells": [
  {
   "cell_type": "code",
   "execution_count": 1,
   "id": "a392298d",
   "metadata": {},
   "outputs": [],
   "source": [
    "import matplotlib.pyplot as plt\n",
    "import numpy as np\n",
    "import pandas as pd\n",
    "from mpl_toolkits.axes_grid1.anchored_artists import AnchoredSizeBar\n",
    "import matplotlib.font_manager as fm\n",
    "from skimage.morphology import convex_hull_image\n",
    "import skimage"
   ]
  },
  {
   "cell_type": "code",
   "execution_count": 2,
   "id": "2831959a",
   "metadata": {},
   "outputs": [],
   "source": [
    "from matplotlib.colors import ListedColormap\n",
    "\n",
    "colors={0: 'darkgray', 1: '#FDBF6F', 2: '#A065BD'}\n",
    "cmap = ListedColormap(colors.values())"
   ]
  },
  {
   "cell_type": "code",
   "execution_count": 3,
   "id": "a8ffea58",
   "metadata": {},
   "outputs": [],
   "source": [
    "plt.rcParams['figure.figsize'] = (10,10)\n",
    "plt.rc('axes', linewidth=2)"
   ]
  },
  {
   "cell_type": "code",
   "execution_count": 4,
   "id": "f0d086c1",
   "metadata": {},
   "outputs": [],
   "source": [
    "# cell label for each transcript\n",
    "df = pd.read_csv('../topact-data/kidney-stereoseq/cellbin/4032_2_cellbin.txt', sep='\\t')\n",
    "\n",
    "# restrict to 4032_2 sample\n",
    "df = df[df.x < 10000]\n",
    "\n",
    "# remove transcripts without assigned cell\n",
    "df = df[df.label != 0]\n",
    "\n",
    "# translate coordinates\n",
    "df['newx'] = df.x - 4880\n",
    "df['newy'] = df.y - 10762"
   ]
  },
  {
   "cell_type": "code",
   "execution_count": 5,
   "id": "e802b442",
   "metadata": {},
   "outputs": [
    {
     "data": {
      "text/html": [
       "<div>\n",
       "<style scoped>\n",
       "    .dataframe tbody tr th:only-of-type {\n",
       "        vertical-align: middle;\n",
       "    }\n",
       "\n",
       "    .dataframe tbody tr th {\n",
       "        vertical-align: top;\n",
       "    }\n",
       "\n",
       "    .dataframe thead th {\n",
       "        text-align: right;\n",
       "    }\n",
       "</style>\n",
       "<table border=\"1\" class=\"dataframe\">\n",
       "  <thead>\n",
       "    <tr style=\"text-align: right;\">\n",
       "      <th></th>\n",
       "      <th>geneID</th>\n",
       "      <th>x</th>\n",
       "      <th>y</th>\n",
       "      <th>UMICount</th>\n",
       "      <th>label</th>\n",
       "      <th>newx</th>\n",
       "      <th>newy</th>\n",
       "    </tr>\n",
       "  </thead>\n",
       "  <tbody>\n",
       "    <tr>\n",
       "      <th>0</th>\n",
       "      <td>Cr2</td>\n",
       "      <td>5747</td>\n",
       "      <td>10991</td>\n",
       "      <td>1</td>\n",
       "      <td>3703</td>\n",
       "      <td>867</td>\n",
       "      <td>229</td>\n",
       "    </tr>\n",
       "    <tr>\n",
       "      <th>1</th>\n",
       "      <td>Ube2w</td>\n",
       "      <td>5747</td>\n",
       "      <td>10991</td>\n",
       "      <td>1</td>\n",
       "      <td>3703</td>\n",
       "      <td>867</td>\n",
       "      <td>229</td>\n",
       "    </tr>\n",
       "    <tr>\n",
       "      <th>11</th>\n",
       "      <td>Cr2</td>\n",
       "      <td>5578</td>\n",
       "      <td>11575</td>\n",
       "      <td>3</td>\n",
       "      <td>10016</td>\n",
       "      <td>698</td>\n",
       "      <td>813</td>\n",
       "    </tr>\n",
       "    <tr>\n",
       "      <th>12</th>\n",
       "      <td>Atp5d</td>\n",
       "      <td>5578</td>\n",
       "      <td>11575</td>\n",
       "      <td>1</td>\n",
       "      <td>10016</td>\n",
       "      <td>698</td>\n",
       "      <td>813</td>\n",
       "    </tr>\n",
       "    <tr>\n",
       "      <th>13</th>\n",
       "      <td>Smim7</td>\n",
       "      <td>5578</td>\n",
       "      <td>11575</td>\n",
       "      <td>1</td>\n",
       "      <td>10016</td>\n",
       "      <td>698</td>\n",
       "      <td>813</td>\n",
       "    </tr>\n",
       "    <tr>\n",
       "      <th>...</th>\n",
       "      <td>...</td>\n",
       "      <td>...</td>\n",
       "      <td>...</td>\n",
       "      <td>...</td>\n",
       "      <td>...</td>\n",
       "      <td>...</td>\n",
       "      <td>...</td>\n",
       "    </tr>\n",
       "    <tr>\n",
       "      <th>4136658</th>\n",
       "      <td>CAAA01118383.1</td>\n",
       "      <td>5659</td>\n",
       "      <td>11393</td>\n",
       "      <td>4</td>\n",
       "      <td>7968</td>\n",
       "      <td>779</td>\n",
       "      <td>631</td>\n",
       "    </tr>\n",
       "    <tr>\n",
       "      <th>4136659</th>\n",
       "      <td>CAAA01118383.1</td>\n",
       "      <td>5304</td>\n",
       "      <td>12532</td>\n",
       "      <td>2</td>\n",
       "      <td>18886</td>\n",
       "      <td>424</td>\n",
       "      <td>1770</td>\n",
       "    </tr>\n",
       "    <tr>\n",
       "      <th>4136660</th>\n",
       "      <td>CAAA01118383.1</td>\n",
       "      <td>6690</td>\n",
       "      <td>12510</td>\n",
       "      <td>1</td>\n",
       "      <td>18793</td>\n",
       "      <td>1810</td>\n",
       "      <td>1748</td>\n",
       "    </tr>\n",
       "    <tr>\n",
       "      <th>4136661</th>\n",
       "      <td>CAAA01118383.1</td>\n",
       "      <td>6073</td>\n",
       "      <td>10844</td>\n",
       "      <td>1</td>\n",
       "      <td>2457</td>\n",
       "      <td>1193</td>\n",
       "      <td>82</td>\n",
       "    </tr>\n",
       "    <tr>\n",
       "      <th>4136663</th>\n",
       "      <td>CAAA01147332.1</td>\n",
       "      <td>5985</td>\n",
       "      <td>12610</td>\n",
       "      <td>1</td>\n",
       "      <td>19222</td>\n",
       "      <td>1105</td>\n",
       "      <td>1848</td>\n",
       "    </tr>\n",
       "  </tbody>\n",
       "</table>\n",
       "<p>2016869 rows × 7 columns</p>\n",
       "</div>"
      ],
      "text/plain": [
       "                 geneID     x      y  UMICount  label  newx  newy\n",
       "0                   Cr2  5747  10991         1   3703   867   229\n",
       "1                 Ube2w  5747  10991         1   3703   867   229\n",
       "11                  Cr2  5578  11575         3  10016   698   813\n",
       "12                Atp5d  5578  11575         1  10016   698   813\n",
       "13                Smim7  5578  11575         1  10016   698   813\n",
       "...                 ...   ...    ...       ...    ...   ...   ...\n",
       "4136658  CAAA01118383.1  5659  11393         4   7968   779   631\n",
       "4136659  CAAA01118383.1  5304  12532         2  18886   424  1770\n",
       "4136660  CAAA01118383.1  6690  12510         1  18793  1810  1748\n",
       "4136661  CAAA01118383.1  6073  10844         1   2457  1193    82\n",
       "4136663  CAAA01147332.1  5985  12610         1  19222  1105  1848\n",
       "\n",
       "[2016869 rows x 7 columns]"
      ]
     },
     "execution_count": 5,
     "metadata": {},
     "output_type": "execute_result"
    }
   ],
   "source": [
    "df"
   ]
  },
  {
   "cell_type": "code",
   "execution_count": 6,
   "id": "372db955",
   "metadata": {},
   "outputs": [],
   "source": [
    "# topact predicted immune and pod coords\n",
    "immunes = np.loadtxt('../topact-data/kidney-stereoseq/immune-coords/4032_2_immunes.txt')\n",
    "\n",
    "pods = np.loadtxt('../topact-data/kidney-stereoseq/pod-coords/4032_2_pods.txt')"
   ]
  },
  {
   "cell_type": "code",
   "execution_count": 7,
   "id": "00b1dadc",
   "metadata": {},
   "outputs": [],
   "source": [
    "# return all transcript coords with the given label\n",
    "def get_points(df, label):\n",
    "    dflabel = df[df.label == label]\n",
    "    \n",
    "    return np.array(list(zip(list(dflabel.newy), list(dflabel.newx))))"
   ]
  },
  {
   "cell_type": "code",
   "execution_count": 20,
   "id": "87dbac30",
   "metadata": {
    "scrolled": true
   },
   "outputs": [],
   "source": [
    "compute_from_scratch = False\n",
    "\n",
    "if compute_from_scratch:\n",
    "    cellbin_arr = np.zeros((2198, 2120))\n",
    "    workingarr = np.zeros_like(cellbin_arr)\n",
    "\n",
    "    # all cell ids in cellbin\n",
    "    labels = list(set(list(df.label)))\n",
    "\n",
    "    # this will take a while\n",
    "    # for each cellbin cell, computes convex hull of transcripts and adds to cellbin_arr\n",
    "    for label in labels:\n",
    "\n",
    "        workingarr[:] = 0\n",
    "\n",
    "        cell = df[df.label == label]\n",
    "\n",
    "        points = set(list(zip(cell.newx, cell.newy)))\n",
    "\n",
    "        for x,y in points:\n",
    "            if x > 0 and y > 0:\n",
    "                try:\n",
    "                    workingarr[y,x] = 1\n",
    "                except IndexError:\n",
    "                    pass\n",
    "\n",
    "        chull = convex_hull_image(workingarr)\n",
    "\n",
    "        cellbin_arr[np.where(chull != 0)] = label\n",
    "        \n",
    "else:\n",
    "    cellbin_arr = np.loadtxt('../topact-data/kidney-stereoseq/cellbin/cellbin_arr.txt')"
   ]
  },
  {
   "cell_type": "code",
   "execution_count": 10,
   "id": "ed76e28f",
   "metadata": {},
   "outputs": [],
   "source": [
    "def all_hitting(target, darts, threshold=20):\n",
    "    x0, y0 = target\n",
    "    hits = []\n",
    "    for i, dart in enumerate(darts):\n",
    "        x,y = dart\n",
    "        if (d2 := (x-x0)**2 + (y-y0)**2) <= threshold**2:\n",
    "            hits.append((i, d2))\n",
    "    return hits\n",
    "\n",
    "rp = skimage.measure.regionprops(cellbin_arr.astype('int'))\n",
    "\n",
    "ssdnacoords = [props.centroid for props in rp]"
   ]
  },
  {
   "cell_type": "code",
   "execution_count": 11,
   "id": "9615d170",
   "metadata": {
    "scrolled": true
   },
   "outputs": [],
   "source": [
    "# assigns cellbins to each topact-predicted cell\n",
    "\n",
    "immunelabels = {}\n",
    "for i, immune in enumerate(immunes):\n",
    "    x,y = immune\n",
    "    if (l := cellbin_arr[int(x), int(y)]) != 0:\n",
    "        immunelabels[i] = l\n",
    "        \n",
    "podlabels = {}\n",
    "for i, immune in enumerate(pods):\n",
    "    x,y = immune\n",
    "    if (l := cellbin_arr[int(x), int(y)]) != 0:\n",
    "        podlabels[i] = l\n",
    "        \n",
    "\n",
    "for i, immune in enumerate(immunes):\n",
    "    x,y = immune\n",
    "    if i not in immunelabels:\n",
    "        hits = all_hitting(immune, ssdnacoords, threshold=10)\n",
    "        if len(hits) > 0:\n",
    "            hits = sorted(hits, key= lambda u: u[1],)\n",
    "            first = hits[0]\n",
    "            hits = list(filter(lambda x: rp[x[0]].label not in immunelabels.values() and rp[x[0]].label not in podlabels.values(), hits))\n",
    "            if len(hits) > 0:\n",
    "                # choose the closest\n",
    "                immunelabels[i] = rp[hits[0][0]].label\n",
    "            else:\n",
    "                # we have a clash\n",
    "                immunelabels[i] = rp[first[0]].label\n",
    "            \n",
    "\n",
    "for i, immune in enumerate(pods):\n",
    "    x,y = immune\n",
    "    if i not in podlabels:\n",
    "        hits = all_hitting(immune, ssdnacoords, threshold=10)\n",
    "        if len(hits) > 0:\n",
    "            hits = sorted(hits, key= lambda u: u[1])\n",
    "            first = hits[0]\n",
    "            hits = list(filter(lambda x: rp[x[0]].label not in immunelabels.values() and rp[x[0]].label not in podlabels.values(), hits))\n",
    "            if len(hits) > 0:\n",
    "                # choose the closest\n",
    "                podlabels[i] = rp[hits[0][0]].label\n",
    "            else:\n",
    "                # we have a clash\n",
    "                podlabels[i] = rp[first[0]].label"
   ]
  },
  {
   "cell_type": "code",
   "execution_count": 12,
   "id": "8c02dd21",
   "metadata": {},
   "outputs": [],
   "source": [
    "newarr = np.zeros_like(cellbin_arr)\n",
    "\n",
    "for label in immunelabels.values():\n",
    "    \n",
    "    if label != 0:\n",
    "        newarr[np.where(cellbin_arr == label)] = 1\n",
    "        \n",
    "for label in podlabels.values():\n",
    "    \n",
    "    if label != 0:\n",
    "        newarr[np.where(cellbin_arr == label)] = 2\n",
    "        \n",
    "        \n",
    "newarr[np.where(newarr == 0)] = np.nan\n",
    "newarr[np.where((cellbin_arr != 0) & (np.isnan(newarr)))] = 0"
   ]
  },
  {
   "cell_type": "code",
   "execution_count": 13,
   "id": "6fb84eb1",
   "metadata": {},
   "outputs": [],
   "source": [
    "celllabels = [1] * len(immunes) + [2] * len(pods)"
   ]
  },
  {
   "cell_type": "code",
   "execution_count": 14,
   "id": "5da43050",
   "metadata": {},
   "outputs": [
    {
     "data": {
      "text/plain": [
       "<mpl_toolkits.axes_grid1.anchored_artists.AnchoredSizeBar at 0x2a0b98a90>"
      ]
     },
     "execution_count": 14,
     "metadata": {},
     "output_type": "execute_result"
    },
    {
     "data": {
      "image/png": "[encoded data removed]",
      "text/plain": [
       "<Figure size 432x288 with 1 Axes>"
      ]
     },
     "metadata": {},
     "output_type": "display_data"
    }
   ],
   "source": [
    "plt.imshow(newarr.T, origin='lower', interpolation='None', cmap=cmap)\n",
    "\n",
    "plt.scatter(pods[:,0], pods[:,1], marker='x', facecolor='#532C66', s=300, linewidth=6)\n",
    "plt.scatter(immunes[:,0], immunes[:,1], marker='x', facecolor='#D77F05', s=300, linewidth=6)\n",
    "\n",
    "plt.xticks([])\n",
    "plt.yticks([])\n",
    "\n",
    "\n",
    "plt.xlim([250, 500])\n",
    "plt.ylim([1350, 1600])\n",
    "\n",
    "ax = plt.gca()\n",
    "scalebar = AnchoredSizeBar(ax.transData,\n",
    "                           69.93, '', 'lower left',\n",
    "                           pad=0.1,\n",
    "                           color='black',\n",
    "                           size_vertical=3,\n",
    "                           frameon=False,\n",
    "                           sep=5,\n",
    "                           fontproperties=fm.FontProperties(size=30))\n",
    "\n",
    "\n",
    "ax.add_artist(scalebar)"
   ]
  },
  {
   "cell_type": "code",
   "execution_count": 15,
   "id": "d4d9a2ca",
   "metadata": {},
   "outputs": [
    {
     "data": {
      "text/plain": [
       "<mpl_toolkits.axes_grid1.anchored_artists.AnchoredSizeBar at 0x2a0c67640>"
      ]
     },
     "execution_count": 15,
     "metadata": {},
     "output_type": "execute_result"
    },
    {
     "data": {
      "image/png": "[encoded data removed]",
      "text/plain": [
       "<Figure size 432x288 with 1 Axes>"
      ]
     },
     "metadata": {},
     "output_type": "display_data"
    }
   ],
   "source": [
    "plt.imshow(newarr.T, origin='lower', interpolation='None', cmap=cmap)\n",
    "\n",
    "plt.scatter(pods[:,0], pods[:,1], marker='x', facecolor='#532C66', s=1500, linewidth=10)\n",
    "plt.scatter(immunes[:,0], immunes[:,1], marker='x', facecolor='#D77F05', s=1500, linewidth=10)\n",
    "\n",
    "plt.xticks([])\n",
    "plt.yticks([])\n",
    "\n",
    "plt.xlim([590, 650])\n",
    "plt.ylim([680, 740])\n",
    "\n",
    "ax = plt.gca()\n",
    "scalebar = AnchoredSizeBar(ax.transData,\n",
    "                           13.98, '', 'lower left',\n",
    "                           pad=1,\n",
    "                           color='black',\n",
    "                           size_vertical=2,\n",
    "                           frameon=False,\n",
    "                           sep=2,\n",
    "                           fontproperties=fm.FontProperties(size=30))\n",
    "\n",
    "\n",
    "ax.add_artist(scalebar)"
   ]
  },
  {
   "cell_type": "code",
   "execution_count": 16,
   "id": "6893fdaa",
   "metadata": {},
   "outputs": [
    {
     "data": {
      "text/plain": [
       "<mpl_toolkits.axes_grid1.anchored_artists.AnchoredSizeBar at 0x2a0cb49a0>"
      ]
     },
     "execution_count": 16,
     "metadata": {},
     "output_type": "execute_result"
    },
    {
     "data": {
      "image/png": "[encoded data removed]",
      "text/plain": [
       "<Figure size 432x288 with 1 Axes>"
      ]
     },
     "metadata": {},
     "output_type": "display_data"
    }
   ],
   "source": [
    "plt.imshow(newarr.T, origin='lower', interpolation='None', cmap=cmap)\n",
    "\n",
    "plt.scatter(pods[:,0], pods[:,1], marker='x', facecolor='#532C66', s=1500, linewidth=10)\n",
    "plt.scatter(immunes[:,0], immunes[:,1], marker='x', facecolor='#D77F05', s=1500, linewidth=10)\n",
    "\n",
    "plt.xticks([])\n",
    "plt.yticks([])\n",
    "\n",
    "plt.ylim([710, 770])\n",
    "plt.xlim([620, 680])\n",
    "\n",
    "ax = plt.gca()\n",
    "scalebar = AnchoredSizeBar(ax.transData,\n",
    "                           13.98, '', 'lower left',\n",
    "                           pad=1,\n",
    "                           color='black',\n",
    "                           size_vertical=2,\n",
    "                           frameon=False,\n",
    "                           sep=2,\n",
    "                           fontproperties=fm.FontProperties(size=30))\n",
    "\n",
    "\n",
    "ax.add_artist(scalebar)"
   ]
  },
  {
   "cell_type": "code",
   "execution_count": 17,
   "id": "38e6459a",
   "metadata": {},
   "outputs": [
    {
     "data": {
      "text/plain": [
       "<mpl_toolkits.axes_grid1.anchored_artists.AnchoredSizeBar at 0x2a0d06bf0>"
      ]
     },
     "execution_count": 17,
     "metadata": {},
     "output_type": "execute_result"
    },
    {
     "data": {
      "image/png": "[encoded data removed]",
      "text/plain": [
       "<Figure size 432x288 with 1 Axes>"
      ]
     },
     "metadata": {},
     "output_type": "display_data"
    }
   ],
   "source": [
    "plt.imshow(newarr.T, origin='lower', interpolation='None', cmap=cmap)\n",
    "\n",
    "plt.scatter(pods[:,0], pods[:,1], marker='x', facecolor='#532C66', s=1500, linewidth=10)\n",
    "plt.scatter(immunes[:,0], immunes[:,1], marker='x', facecolor='#D77F05', s=1500, linewidth=10)\n",
    "\n",
    "plt.xticks([])\n",
    "plt.yticks([])\n",
    "\n",
    "plt.xlim([510, 570])\n",
    "plt.ylim([1870, 1930])\n",
    "\n",
    "ax = plt.gca()\n",
    "scalebar = AnchoredSizeBar(ax.transData,\n",
    "                           13.98, '', 'lower left',\n",
    "                           pad=1,\n",
    "                           color='black',\n",
    "                           size_vertical=2,\n",
    "                           frameon=False,\n",
    "                           sep=2,\n",
    "                           fontproperties=fm.FontProperties(size=30))\n",
    "\n",
    "\n",
    "ax.add_artist(scalebar)"
   ]
  },
  {
   "cell_type": "code",
   "execution_count": 18,
   "id": "4e63d422",
   "metadata": {},
   "outputs": [
    {
     "data": {
      "text/plain": [
       "<mpl_toolkits.axes_grid1.anchored_artists.AnchoredSizeBar at 0x2a0d8ecb0>"
      ]
     },
     "execution_count": 18,
     "metadata": {},
     "output_type": "execute_result"
    },
    {
     "data": {
      "image/png": "[encoded data removed]",
      "text/plain": [
       "<Figure size 432x288 with 1 Axes>"
      ]
     },
     "metadata": {},
     "output_type": "display_data"
    }
   ],
   "source": [
    "plt.imshow(newarr.T, origin='lower', interpolation='None', cmap=cmap)\n",
    "\n",
    "plt.xticks([])\n",
    "plt.yticks([])\n",
    "\n",
    "ax = plt.gca()\n",
    "ax.spines['top'].set_visible(False)\n",
    "ax.spines['bottom'].set_visible(False)\n",
    "ax.spines['left'].set_visible(False)\n",
    "ax.spines['right'].set_visible(False)\n",
    "\n",
    "from matplotlib.patches import Rectangle\n",
    "\n",
    "rect = Rectangle((250, 1350), 250, 250, facecolor='None', edgecolor='black')\n",
    "\n",
    "ax.add_patch(rect)\n",
    "\n",
    "rect = Rectangle((590, 680), 60, 60, facecolor='None', edgecolor='black')\n",
    "ax.add_patch(rect)\n",
    "\n",
    "rect = Rectangle((510, 1870), 60, 60, facecolor='None', edgecolor='black')\n",
    "ax.add_patch(rect)\n",
    "\n",
    "rect = Rectangle((620, 710), 60, 60, facecolor='None', edgecolor='black')\n",
    "ax.add_patch(rect)\n",
    "\n",
    "scalebar = AnchoredSizeBar(ax.transData,\n",
    "                           279.7, '', 'lower right',\n",
    "                           pad=0.1,\n",
    "                           color='black',\n",
    "                           size_vertical=10,\n",
    "                           frameon=False,\n",
    "                           sep=10,\n",
    "                           fontproperties=fm.FontProperties(size=30))\n",
    "\n",
    "\n",
    "ax.add_artist(scalebar)"
   ]
  },
  {
   "cell_type": "code",
   "execution_count": null,
   "id": "fda56a45",
   "metadata": {},
   "outputs": [],
   "source": []
  }
 ],
 "metadata": {
  "kernelspec": {
   "display_name": "Python 3 (ipykernel)",
   "language": "python",
   "name": "python3"
  },
  "language_info": {
   "codemirror_mode": {
    "name": "ipython",
    "version": 3
   },
   "file_extension": ".py",
   "mimetype": "text/x-python",
   "name": "python",
   "nbconvert_exporter": "python",
   "pygments_lexer": "ipython3",
   "version": "3.10.0"
  }
 },
 "nbformat": 4,
 "nbformat_minor": 5
}
