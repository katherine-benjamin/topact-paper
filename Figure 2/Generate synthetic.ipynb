{
 "cells": [
  {
   "cell_type": "markdown",
   "id": "d5829496",
   "metadata": {},
   "source": [
    "This code is used to generate synthetic spatial transcriptomics data."
   ]
  },
  {
   "cell_type": "code",
   "execution_count": 1,
   "id": "959588e3",
   "metadata": {},
   "outputs": [],
   "source": [
    "import bisect\n",
    "import random\n",
    "import itertools\n",
    "from math import exp\n",
    "\n",
    "import pandas as pd\n",
    "import numpy as np\n",
    "from numpy.random import default_rng\n",
    "from scipy.spatial import Voronoi, voronoi_plot_2d, cKDTree"
   ]
  },
  {
   "cell_type": "code",
   "execution_count": 2,
   "id": "d18dd3cb",
   "metadata": {},
   "outputs": [],
   "source": [
    "import pandas as pd \n",
    "for i in range(100):\n",
    "    \n",
    "    df = pd.read_csv(f'/Users/kate/Research/topact/output/synthetic/synthetic{i}/reads.csv')\n",
    "    \n",
    "    df.to_csv(f'../syntheticdata/expression/reads_{i}.csv')"
   ]
  },
  {
   "cell_type": "code",
   "execution_count": 2,
   "id": "693be23e",
   "metadata": {},
   "outputs": [],
   "source": [
    "def readfile(filename):\n",
    "    with open(filename, 'r') as f:\n",
    "        return [line.rstrip() for line in f.readlines()]"
   ]
  },
  {
   "cell_type": "code",
   "execution_count": 3,
   "id": "dbc89eea",
   "metadata": {},
   "outputs": [],
   "source": [
    "# Cell type counts in snRNA-seq reference\n",
    "\n",
    "counts={'CCD': 3086,\n",
    "        'DCT': 6490,\n",
    "        'ENDO': 3850,\n",
    "        'IMMUNE': 1013,\n",
    "        'PODS':  215,\n",
    "        'PT': 18109,\n",
    "        'TAL': 8081,\n",
    "        'UROTHELIUM': 161,\n",
    "        'VSM': 3127\n",
    "        }\n",
    "\n",
    "# Total number of cells in snRNA-seq reference\n",
    "total = sum(counts.values())\n",
    "\n",
    "# List of cell types sorted alphabetically\n",
    "CELLTYPES = sorted(list(counts.keys()))\n",
    "\n",
    "# List of cell type proportions\n",
    "PROPORTIONS = [counts[x]/total for x in CELLTYPES]\n",
    "\n",
    "# Cell types sorted by proportion\n",
    "CELLTYPES = [x for _, x in sorted(zip(PROPORTIONS, CELLTYPES), reverse=True)]\n",
    "PROPORTIONS = sorted(PROPORTIONS, reverse=True)\n",
    "\n",
    "# Thresholds for when random number in [0,1] is assigned a given cell type\n",
    "THRESHOLDS = PROPORTIONS.copy()\n",
    "for i in range(1, len(THRESHOLDS)):\n",
    "    THRESHOLDS[i] += THRESHOLDS[i-1]\n",
    "    \n",
    "def get_classification(value):\n",
    "    return CELLTYPES[bisect.bisect_right(THRESHOLDS, value)]\n",
    "    \n",
    "# Average expressions of each cell type in snRNA-seq reference\n",
    "AVERAGE_EXPRESSIONS = {ct: np.loadtxt(f'./averages/{ct}-average.txt') for ct in CELLTYPES}\n",
    "\n",
    "# List of genes\n",
    "GENES = readfile('./genes.txt')\n",
    "\n",
    "NUM_GENES = len(GENES)\n",
    "NUM_CELLTYPES = len(CELLTYPES)"
   ]
  },
  {
   "cell_type": "code",
   "execution_count": 4,
   "id": "28cad6c8",
   "metadata": {},
   "outputs": [
    {
     "name": "stdout",
     "output_type": "stream",
     "text": [
      "['PT', 'TAL', 'DCT', 'ENDO', 'VSM', 'CCD', 'IMMUNE', 'PODS', 'UROTHELIUM']\n"
     ]
    }
   ],
   "source": [
    "# This ordering is used later for plotting\n",
    "\n",
    "print(CELLTYPES)"
   ]
  },
  {
   "cell_type": "code",
   "execution_count": 7,
   "id": "bc3eeabd",
   "metadata": {},
   "outputs": [],
   "source": [
    "# Generate random point cloud\n",
    "def get_points(num_points=2500, dimensions=[1000,1000]):\n",
    "    x = np.random.uniform(low=0, high=dimensions[1], size=num_points)\n",
    "    y = np.random.uniform(low=0, high=dimensions[0], size=num_points)\n",
    "    \n",
    "    return list(zip(x, y))\n",
    "\n",
    "# Generate random cell type classifications\n",
    "def get_classifications(num_points):\n",
    "    values = list(np.random.uniform(size=num_points))\n",
    "    return list(map(get_classification, values))\n",
    "\n",
    "# Generate gene expression\n",
    "def generate_readings(spots, alpha, zeros=0):\n",
    "    ea = exp(-alpha)\n",
    "    rng = default_rng()\n",
    "    lams = np.vstack([AVERAGE_EXPRESSIONS[ct] for ct in spots]) * ea\n",
    "    vals = rng.poisson(lams, (len(spots), NUM_GENES))\n",
    "    expr = np.vstack([vals[i] for i, _ in enumerate(spots)])\n",
    "\n",
    "    # Model zero inflation\n",
    "    if zeros > 0:\n",
    "        indices = rng.choice(np.arange(len(spots)), size=int(len(spots) * zeros), replace=False)\n",
    "        expr[indices] = 0\n",
    "\n",
    "    return expr\n",
    "            \n",
    "# Convert expression to dataframe rows\n",
    "def convert_to_rows(coords, expression_matrix):\n",
    "    \n",
    "    reads = zip(*np.where(expression_matrix > 0))\n",
    "    \n",
    "    for i, j in reads:\n",
    "        x, y = coords[i]\n",
    "        gene = GENES[j]\n",
    "        \n",
    "        yield {'geneID': gene, 'x': x, 'y': y, 'MIDCounts': expression_matrix[i,j]}\n",
    "        \n",
    "# Create dataframe of gene expression\n",
    "def create_expression_df(spots, spot_types, alpha, zeros=0):\n",
    "    return pd.DataFrame(convert_to_rows(spots, generate_readings(spot_types, alpha, zeros)))\n",
    "\n",
    "    \n",
    "# Run entire process of generating synthetic data\n",
    "def get_everything(num_cells = 2500, dimensions = (1000,1000), alpha=7, zeros=0):\n",
    "    cells = get_points(num_cells, dimensions)\n",
    "    celltypes = get_classifications(num_cells)\n",
    "\n",
    "    spots = np.array(list(itertools.product(range(dimensions[0]), range(dimensions[1]))))\n",
    "\n",
    "    voronoi_kdtree = cKDTree(cells)\n",
    "\n",
    "    spot_dist, spot_regions = voronoi_kdtree.query(spots, k=1)\n",
    "    spot_types = list(map(lambda x: celltypes[x], spot_regions))\n",
    "\n",
    "    df = create_expression_df(spots, spot_types, alpha, zeros)\n",
    "    \n",
    "    spot_cells = np.empty(dimensions)\n",
    "    for ((x,y), cell) in zip(spots, spot_regions):\n",
    "        spot_cells[x,y] = cell\n",
    "        \n",
    "    ct_grid = np.empty(dimensions)\n",
    "    for ((x,y), ct) in zip(spots, spot_types):\n",
    "        ct_grid[x,y] = CELLTYPES.index(ct)\n",
    "        \n",
    "    return cells, celltypes, spot_cells, ct_grid, df"
   ]
  },
  {
   "cell_type": "markdown",
   "id": "7bbaa42e",
   "metadata": {},
   "source": [
    "Here is a small example of how synthetic data are generated. Be warned that generating large datasets can use a lot of memory."
   ]
  },
  {
   "cell_type": "code",
   "execution_count": 8,
   "id": "8874785c",
   "metadata": {},
   "outputs": [],
   "source": [
    "d = 50 # For actual data, d=500\n",
    "num_cells = 6 # For actual data, num_cells=625\n",
    "\n",
    "alpha=7.3 # This is in fact -log(alpha) for the alpha defined in thepa per\n",
    "\n",
    "total_reads = 0\n",
    "\n",
    "# Example generating a set of synthetic data. Data used in analysis can be found in a subdirectory.\n",
    "\n",
    "cells, celltypes, spot_cells, ct_grid, df = get_everything(num_cells, (d,d), alpha=alpha, zeros=0.2)"
   ]
  },
  {
   "cell_type": "code",
   "execution_count": 10,
   "id": "145ba6b9",
   "metadata": {},
   "outputs": [
    {
     "name": "stdout",
     "output_type": "stream",
     "text": [
      "[(49.91038297521845, 26.296220871763847), (2.1895783438592273, 32.432760530575806), (13.228270082728322, 9.71806710212893), (11.130368172892851, 0.5839765818611897), (14.51342159038832, 8.936062602554696), (15.033114558422294, 4.545950433175233)]\n"
     ]
    }
   ],
   "source": [
    "# List of cell coordinates\n",
    "print(cells)"
   ]
  },
  {
   "cell_type": "code",
   "execution_count": 11,
   "id": "ad3a4076",
   "metadata": {},
   "outputs": [
    {
     "name": "stdout",
     "output_type": "stream",
     "text": [
      "['PT', 'CCD', 'PT', 'ENDO', 'PT', 'VSM']\n"
     ]
    }
   ],
   "source": [
    "# List of cell types for each cell\n",
    "print(celltypes)"
   ]
  },
  {
   "cell_type": "code",
   "execution_count": 12,
   "id": "90b827e6",
   "metadata": {},
   "outputs": [
    {
     "name": "stdout",
     "output_type": "stream",
     "text": [
      "[[3. 3. 3. ... 1. 1. 1.]\n",
      " [3. 3. 3. ... 1. 1. 1.]\n",
      " [3. 3. 3. ... 1. 1. 1.]\n",
      " ...\n",
      " [0. 0. 0. ... 0. 0. 0.]\n",
      " [0. 0. 0. ... 0. 0. 0.]\n",
      " [0. 0. 0. ... 0. 0. 0.]]\n"
     ]
    }
   ],
   "source": [
    "# Array showing cell assigned to each spot\n",
    "print(spot_cells)"
   ]
  },
  {
   "cell_type": "code",
   "execution_count": 13,
   "id": "37e5117f",
   "metadata": {},
   "outputs": [
    {
     "name": "stdout",
     "output_type": "stream",
     "text": [
      "[[3. 3. 3. ... 5. 5. 5.]\n",
      " [3. 3. 3. ... 5. 5. 5.]\n",
      " [3. 3. 3. ... 5. 5. 5.]\n",
      " ...\n",
      " [0. 0. 0. ... 0. 0. 0.]\n",
      " [0. 0. 0. ... 0. 0. 0.]\n",
      " [0. 0. 0. ... 0. 0. 0.]]\n"
     ]
    }
   ],
   "source": [
    "# Array showing cell type assigned t each spot\n",
    "print(ct_grid)"
   ]
  },
  {
   "cell_type": "code",
   "execution_count": 14,
   "id": "efbcc85c",
   "metadata": {},
   "outputs": [
    {
     "name": "stdout",
     "output_type": "stream",
     "text": [
      "             geneID   x   y  MIDCounts\n",
      "0             Krit1   0   3          1\n",
      "1     4932438A13Rik   0   7          1\n",
      "2            Luc7l3   0   8          1\n",
      "3            Eef1a1   0   8          1\n",
      "4              Amy1   0   8          1\n",
      "...             ...  ..  ..        ...\n",
      "4175         Polr3b  49  47          1\n",
      "4176       Epm2aip1  49  47          1\n",
      "4177          Knop1  49  48          1\n",
      "4178          Oscp1  49  48          1\n",
      "4179            Nlk  49  49          1\n",
      "\n",
      "[4180 rows x 4 columns]\n"
     ]
    }
   ],
   "source": [
    "# Data frame showing generated expression\n",
    "# MIDCounts = # transcript reads\n",
    "print(df)"
   ]
  },
  {
   "cell_type": "code",
   "execution_count": null,
   "id": "868ac311",
   "metadata": {},
   "outputs": [],
   "source": []
  }
 ],
 "metadata": {
  "kernelspec": {
   "display_name": "Python 3 (ipykernel)",
   "language": "python",
   "name": "python3"
  },
  "language_info": {
   "codemirror_mode": {
    "name": "ipython",
    "version": 3
   },
   "file_extension": ".py",
   "mimetype": "text/x-python",
   "name": "python",
   "nbconvert_exporter": "python",
   "pygments_lexer": "ipython3",
   "version": "3.10.0"
  }
 },
 "nbformat": 4,
 "nbformat_minor": 5
}
