{
 "cells": [
  {
   "cell_type": "code",
   "execution_count": 1,
   "id": "ae3a758a",
   "metadata": {},
   "outputs": [],
   "source": [
    "import pandas as pd\n",
    "import numpy as np"
   ]
  },
  {
   "cell_type": "code",
   "execution_count": 3,
   "id": "1840a23c",
   "metadata": {},
   "outputs": [],
   "source": [
    "def add_diffusion(reads_fname, save_to, lam=6.84):\n",
    "    df = pd.read_csv(reads_fname)\n",
    "    num_rows = len(df)\n",
    "    magnitude = np.random.poisson(lam=lam, size=num_rows)\n",
    "    angle = np.random.random(size=num_rows) * 2 * np.pi\n",
    "    dx, dy = np.floor(magnitude * np.vstack([np.cos(angle), np.sin(angle)]) / 0.715).astype('int')\n",
    "    df.x += dx\n",
    "    df.y += dy\n",
    "    df = df[(df.x >= 0) & (df.x < 500) & (df.y >= 0) & (df.y < 500)]\n",
    "    df = df.groupby(['geneID', 'x', 'y']).agg({'MIDCounts': 'sum'}).reset_index()\n",
    "    df.to_csv(save_to, index=False)"
   ]
  },
  {
   "cell_type": "code",
   "execution_count": null,
   "id": "716cd6e4",
   "metadata": {},
   "outputs": [],
   "source": []
  }
 ],
 "metadata": {
  "kernelspec": {
   "display_name": "Python 3 (ipykernel)",
   "language": "python",
   "name": "python3"
  },
  "language_info": {
   "codemirror_mode": {
    "name": "ipython",
    "version": 3
   },
   "file_extension": ".py",
   "mimetype": "text/x-python",
   "name": "python",
   "nbconvert_exporter": "python",
   "pygments_lexer": "ipython3",
   "version": "3.10.0"
  }
 },
 "nbformat": 4,
 "nbformat_minor": 5
}
