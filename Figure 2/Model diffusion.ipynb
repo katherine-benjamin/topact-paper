{
 "cells": [
  {
   "cell_type": "code",
   "execution_count": 2,
   "id": "ae3a758a",
   "metadata": {},
   "outputs": [],
   "source": [
    "import pandas as pd\n",
    "import numpy as np"
   ]
  },
  {
   "cell_type": "code",
   "execution_count": 4,
   "id": "1840a23c",
   "metadata": {},
   "outputs": [],
   "source": [
    "def add_diffusion(i, lam=6.84):\n",
    "    df = pd.read_csv(f'./synthetic{i}/reads.csv')\n",
    "    num_rows = len(df)\n",
    "    magnitude = np.random.poisson(lam=lam, size=num_rows)\n",
    "    angle = np.random.random(size=num_rows) * 2 * np.pi\n",
    "    dx, dy = np.floor(magnitude * np.vstack([np.cos(angle), np.sin(angle)]) / 0.715).astype('int')\n",
    "    df.x += dx\n",
    "    df.y += dy\n",
    "    df = df[(df.x >= 0) & (df.x < 500) & (df.y >= 0) & (df.y < 500)]\n",
    "    df = df.groupby(['geneID', 'x', 'y']).agg({'MIDCounts': 'sum'}).reset_index()\n",
    "    df.to_csv(f'./synthetic{i}/reads_diffusion_2.csv', index=False)"
   ]
  },
  {
   "cell_type": "code",
   "execution_count": 5,
   "id": "5591d47d",
   "metadata": {},
   "outputs": [],
   "source": [
    "for i in range(70):\n",
    "    lam = (i//10) + 1\n",
    "    add_diffusion(i, lam=lam)"
   ]
  },
  {
   "cell_type": "code",
   "execution_count": null,
   "id": "f3e68f3d",
   "metadata": {},
   "outputs": [],
   "source": []
  }
 ],
 "metadata": {
  "kernelspec": {
   "display_name": "Python 3 (ipykernel)",
   "language": "python",
   "name": "python3"
  },
  "language_info": {
   "codemirror_mode": {
    "name": "ipython",
    "version": 3
   },
   "file_extension": ".py",
   "mimetype": "text/x-python",
   "name": "python",
   "nbconvert_exporter": "python",
   "pygments_lexer": "ipython3",
   "version": "3.10.0"
  }
 },
 "nbformat": 4,
 "nbformat_minor": 5
}
