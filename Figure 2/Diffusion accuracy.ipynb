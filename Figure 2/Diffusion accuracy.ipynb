{
 "cells": [
  {
   "cell_type": "markdown",
   "id": "1c4c9cdd",
   "metadata": {},
   "source": [
    "This notebook produces the figure showing the accuracy of each method under the effects of diffusion. "
   ]
  },
  {
   "cell_type": "code",
   "execution_count": 1,
   "id": "0572638f",
   "metadata": {},
   "outputs": [],
   "source": [
    "import itertools\n",
    "\n",
    "import numpy as np\n",
    "import pandas as pd\n",
    "from persistomics import spatial\n",
    "import scipy.stats\n",
    "\n",
    "import matplotlib.pyplot as plt\n",
    "from matplotlib import colors\n",
    "import seaborn as sns\n",
    "\n",
    "plt.rcParams['figure.figsize'] = (10,10)\n",
    "plt.rc('axes', linewidth=2)"
   ]
  },
  {
   "cell_type": "code",
   "execution_count": 75,
   "id": "bb12dbfc",
   "metadata": {},
   "outputs": [],
   "source": [
    "plt.rcParams['pdf.fonttype'] = 42"
   ]
  },
  {
   "cell_type": "code",
   "execution_count": 2,
   "id": "11c32d91",
   "metadata": {},
   "outputs": [],
   "source": [
    "def hex_to_rgb(h):\n",
    "    return tuple(int(h[i+1:i+3], 16) for i in (0, 2, 4))"
   ]
  },
  {
   "cell_type": "code",
   "execution_count": 68,
   "id": "66712eca",
   "metadata": {},
   "outputs": [],
   "source": [
    "# Orderings of cell types in ground truth and TopACT-predicted data\n",
    "# One is alphabetical, the other is by total number of cells in snRNA-seq\n",
    "ACTUAL_CELLTYPES = ['PT', 'TAL', 'DCT', 'ENDO', 'VSM', 'CCD', 'IMMUNE', 'PODS', 'UROTHELIUM']\n",
    "ALPHABETICAL_CELLTYPES = ['CCD', 'DCT', 'ENDO', 'IMMUNE', 'PODS', 'PT', 'TAL', 'UROTHELIUM', 'VSM']"
   ]
  },
  {
   "cell_type": "code",
   "execution_count": 69,
   "id": "f93232df",
   "metadata": {},
   "outputs": [],
   "source": [
    "topact_values = []\n",
    "bin20_values = []\n",
    "rctd_values = []\n",
    "# The slightly odd order here is because we apply diffusion (i//10 + 1) for experiments i = 0,..,69 and 0 diffusion to experiments 70-79\n",
    "# The end result is that the i'th experiment in our list has diffusion i//10\n",
    "# We store the accuracies of each iteration in these lists\n",
    "for i in list(range(70,80)) + list(range(70)):\n",
    "        \n",
    "    # Ground truth cell types\n",
    "    actual = np.loadtxt(f'../topact-data/syntheticdata/groundtruth/celltypegrid_{i}.txt')\n",
    "    \n",
    "    \n",
    "\n",
    "    # TOPACT PREDICTIONS\n",
    "    \n",
    "    # Convert indices to match order of ground truth cell types\n",
    "    def convert_topact(image):\n",
    "        \n",
    "        def convert_coord(p):\n",
    "            x = image[p]\n",
    "            if np.isnan(x):\n",
    "                return -1 # Represents missing prediction\n",
    "            return ACTUAL_CELLTYPES.index(ALPHABETICAL_CELLTYPES[int(x)])\n",
    "        \n",
    "        return np.array(list(map(convert_coord, itertools.product(range(500), range(500))))).reshape((500,500))\n",
    "    \n",
    "    # TopACT confidence matrix\n",
    "    predicted = np.loadtxt(f'../topact-data/syntheticdata/topactpreds_diffuse/topactpreds_diffuse_{i}.txt')\n",
    "    # Convert to ground truth cell type indices\n",
    "    predicted = convert_topact(predicted)\n",
    "    \n",
    "    # This is the accuracy of the underlying prediction\n",
    "    topact_values.append(len(np.where(predicted == actual)[0]) / (500*500))\n",
    "    \n",
    "    \n",
    "    \n",
    "    # RCTD PREDICTIONS\n",
    "    \n",
    "    rctd = pd.read_csv(f'../topact-data/syntheticdata/rctdoutput_diffuse/rctd_diffuse_{i}.csv')\n",
    "\n",
    "    rctd.rename(columns={ rctd.columns[0]: \"spot\" }, inplace = True)\n",
    "    \n",
    "    # Extract cell cords from RCTD output array\n",
    "    rctd['x'] = list(map(lambda x: int(x[4:].split('.')[0]), rctd['spot']))\n",
    "    rctd['y'] = list(map(lambda x: int(x[4:].split('.')[1]), rctd['spot']))\n",
    "    rctdarr = np.zeros((500,500)).astype('int') - 1 # -1 represents missing prediction\n",
    "    for row in rctd.itertuples():\n",
    "        # For each predicted cell type, assign prediction to whole bin\n",
    "        # WARNING: in SciPy >= 1.11.0 this will need to be changed as the mode function is being updated\n",
    "        rctdarr[row.x*20:row.x*20+20, row.y*20:row.y*20+20] = ACTUAL_CELLTYPES.index(row.first_type)\n",
    "        \n",
    "    rctd_values.append(len(np.where(rctdarr == actual)[0]) / (500*500))\n",
    "    \n",
    "    \n",
    "    # MODAL BIN 20 PREDICTIONS\n",
    "    \n",
    "    bin20arr = np.zeros((500,500))\n",
    "    for i in range(0, 500, 20):\n",
    "        for j in range(0, 500, 20):\n",
    "\n",
    "            # Each bin is assigned its modal cell type\n",
    "            thebin = actual[i:i+20,j:j+20].astype('int')\n",
    "\n",
    "            celltype = scipy.stats.mode(thebin, axis=None)[0][0]\n",
    "            bin20arr[i:i+20,j:j+20] = celltype\n",
    "\n",
    "    bin20_values.append(len(np.where(bin20arr == actual)[0]) / (500*500))\n",
    "    "
   ]
  },
  {
   "cell_type": "code",
   "execution_count": 70,
   "id": "e2becea2",
   "metadata": {},
   "outputs": [],
   "source": [
    "iterations = list(range(70,80)) + list(range(70))"
   ]
  },
  {
   "cell_type": "code",
   "execution_count": 71,
   "id": "55e748b7",
   "metadata": {},
   "outputs": [],
   "source": [
    "df = pd.DataFrame([{'Method': 'TopACT', 'Display': 'TopACT\\n(Bin 1)', 'Accuracy': x, 'Diffusion': i//10, 'Iteration': iterations[i]} for i, x in enumerate(topact_values)] + \n",
    "                  [{'Method': 'Modal', 'Display': 'Modal\\n(Bin 20)', 'Accuracy': x, 'Diffusion': i//10 , 'Iteration': iterations[i]} for i, x in enumerate(bin20_values)] +\n",
    "                 [{'Method': 'RCTD', 'Display': 'RCTD\\n(Bin 20)', 'Accuracy': x, 'Diffusion': i//10, 'Iteration': iterations[i] } for i, x in enumerate(rctd_values)])"
   ]
  },
  {
   "cell_type": "code",
   "execution_count": 76,
   "id": "41ba6543",
   "metadata": {},
   "outputs": [
    {
     "data": {
      "image/png": "[encoded data removed]",
      "text/plain": [
       "<Figure size 91.2756x90.7087 with 1 Axes>"
      ]
     },
     "metadata": {},
     "output_type": "display_data"
    }
   ],
   "source": [
    "sns.set(style=\"ticks\", context='paper', font=\"Arial\")\n",
    "plt.rc('axes', linewidth=1*cm)\n",
    "cm = 1/2.54  # centimeters in inches\n",
    "plt.rcParams['figure.figsize'] = (3.22*cm, 3.2*cm)\n",
    "\n",
    "\n",
    "b = sns.lineplot(data=df, errorbar='se', markers=False, markersize=2, markeredgewidth=0, err_style='band', x='Diffusion', y='Accuracy', hue='Display', style='Display', palette='flare_r', linewidth=1*cm)\n",
    "\n",
    "b.set_xlabel(\"Mean diffusion (μm)\",fontsize=5)\n",
    "b.set_ylabel(\"Accuracy\",fontsize=5)\n",
    "b.tick_params(labelsize=5)\n",
    "\n",
    "plt.plot([6.84, 6.84], [0, 1], linestyle='--', color='black', linewidth=1*cm)\n",
    "plt.plot([1.7, 1.7], [0, 1], linestyle='--', color='black', linewidth=1*cm)\n",
    "\n",
    "plt.ylim([0.58, 0.83])\n",
    "ax = plt.gca()\n",
    "ax.spines['right'].set_visible(False)\n",
    "ax.spines['top'].set_visible(False)\n",
    "ax.spines['left'].set_linewidth(1*cm)\n",
    "ax.spines['bottom'].set_linewidth(1*cm)\n",
    "ax.xaxis.set_tick_params(width=1*cm)\n",
    "ax.yaxis.set_tick_params(width=1*cm)\n",
    "# handles, labels = ax.get_legend_handles_labels()\n",
    "legend = ax.legend(loc=\"upper right\", fontsize=5, frameon=False, bbox_to_anchor=(1.6, 0.85), title_fontsize=5)\n",
    "\n",
    "for line in legend.get_lines():\n",
    "    line.set_linewidth(1*cm)\n",
    "# legend = ax.legend(loc='upper right', handles=handles[0:], labels=labels[0:], bbox_to_anchor=(1.15, 1.25), handletextpad=0.1, ncol=2, frameon=False, fontsize=16)    \n",
    "\n",
    "\n",
    "# legend = ax.legend(handles=handles[0:], labels=labels[0:], frameon=False, fontsize=16, loc=\"upper right\")\n",
    "plt.text(6.2, 0.835, '6.84μm', fontsize=5)\n",
    "plt.text(1.1, 0.835, '1.7μm', fontsize=5)\n",
    "\n",
    "plt.savefig('diffusion.pdf', transparent=True, bbox_inches='tight')"
   ]
  },
  {
   "cell_type": "code",
   "execution_count": null,
   "id": "999f8e5d",
   "metadata": {},
   "outputs": [],
   "source": []
  }
 ],
 "metadata": {
  "kernelspec": {
   "display_name": "Python 3 (ipykernel)",
   "language": "python",
   "name": "python3"
  },
  "language_info": {
   "codemirror_mode": {
    "name": "ipython",
    "version": 3
   },
   "file_extension": ".py",
   "mimetype": "text/x-python",
   "name": "python",
   "nbconvert_exporter": "python",
   "pygments_lexer": "ipython3",
   "version": "3.10.0"
  }
 },
 "nbformat": 4,
 "nbformat_minor": 5
}
