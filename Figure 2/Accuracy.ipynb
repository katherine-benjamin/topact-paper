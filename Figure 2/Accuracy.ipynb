{
 "cells": [
  {
   "cell_type": "markdown",
   "id": "776e5b7e",
   "metadata": {},
   "source": [
    "This notebook computes the accuracy of various precomputed outputs on each synthetic data set. "
   ]
  },
  {
   "cell_type": "code",
   "execution_count": 44,
   "id": "732b73bd",
   "metadata": {
    "scrolled": true
   },
   "outputs": [],
   "source": [
    "import itertools\n",
    "\n",
    "import numpy as np\n",
    "import pandas as pd\n",
    "import scipy.stats\n",
    "\n",
    "import matplotlib.pyplot as plt\n",
    "import seaborn as sns\n",
    "\n",
    "from topact import spatial\n",
    "\n",
    "import warnings\n",
    "warnings.simplefilter(\"ignore\", FutureWarning)\n",
    "\n"
   ]
  },
  {
   "cell_type": "code",
   "execution_count": 5,
   "id": "bcab560b",
   "metadata": {},
   "outputs": [],
   "source": [
    "def hex_to_rgb(h):\n",
    "    return tuple(int(h[i+1:i+3], 16) for i in (0, 2, 4))"
   ]
  },
  {
   "cell_type": "code",
   "execution_count": 39,
   "id": "d30b9e67",
   "metadata": {},
   "outputs": [],
   "source": [
    "# Orderings of cell types in ground truth and TopACT-predicted data\n",
    "# One is alphabetical, the other is by total number of cells in snRNA-seq\n",
    "ACTUAL_CELLTYPES = ['PT', 'TAL', 'DCT', 'ENDO', 'VSM', 'CCD', 'IMMUNE', 'PODS', 'UROTHELIUM']\n",
    "ALPHABETICAL_CELLTYPES = ['CCD', 'DCT', 'ENDO', 'IMMUNE', 'PODS', 'PT', 'TAL', 'UROTHELIUM', 'VSM']"
   ]
  },
  {
   "cell_type": "code",
   "execution_count": 49,
   "id": "bbc4f782",
   "metadata": {},
   "outputs": [],
   "source": [
    "# We store the accuracies of each iteration in these lists\n",
    "topact_values = []\n",
    "bin20_values = []\n",
    "rctd_values = []\n",
    "\n",
    "for i in range(100):\n",
    "        \n",
    "    # Ground truth cell types\n",
    "    actual = np.loadtxt(f'../syntheticdata/groundtruth/celltypegrid_{i}.txt')\n",
    "    \n",
    "    \n",
    "\n",
    "    # TOPACT PREDICTIONS\n",
    "    \n",
    "    # Convert indices to match order of ground truth cell types\n",
    "    def convert_topact(image):\n",
    "        \n",
    "        def convert_coord(p):\n",
    "            x = image[p]\n",
    "            if np.isnan(x):\n",
    "                return -1 # Represents missing prediction\n",
    "            return ACTUAL_CELLTYPES.index(ALPHABETICAL_CELLTYPES[x])\n",
    "        \n",
    "        return np.array(list(map(convert_coord, itertools.product(range(500), range(500))))).reshape((500,500))\n",
    "    \n",
    "    # TopACT confidence matrix\n",
    "    predicted = np.loadtxt(f'../syntheticdata/topactpreds/topactpreds_{i}.txt').astype('int')\n",
    "    # Convert to ground truth cell type indices\n",
    "    predicted = convert_topact(predicted)\n",
    "    \n",
    "    # This is the accuracy of the underlying prediction\n",
    "    topact_values.append(len(np.where(predicted == actual)[0]) / (500*500))\n",
    "    \n",
    "    \n",
    "    \n",
    "    # RCTD PREDICTIONS\n",
    "    \n",
    "    rctd = pd.read_csv(f'../syntheticdata/rctdoutput/rctd_{i}.csv')\n",
    "\n",
    "    rctd.rename(columns={ rctd.columns[0]: \"spot\" }, inplace = True)\n",
    "    \n",
    "    # Extract cell cords from RCTD output array\n",
    "    rctd['x'] = list(map(lambda x: int(x[4:].split('.')[0]), rctd['spot']))\n",
    "    rctd['y'] = list(map(lambda x: int(x[4:].split('.')[1]), rctd['spot']))\n",
    "    rctdarr = np.zeros((500,500)).astype('int') - 1 # -1 represents missing prediction\n",
    "    for row in rctd.itertuples():\n",
    "        # For each predicted cell type, assign prediction to whole bin\n",
    "        # WARNING: in SciPy >= 1.11.0 this will need to be changed as the mode function is being updated\n",
    "        rctdarr[row.x*20:row.x*20+20, row.y*20:row.y*20+20] = ACTUAL_CELLTYPES.index(row.first_type)\n",
    "        \n",
    "    rctd_values.append(len(np.where(rctdarr == actual)[0]) / (500*500))\n",
    "    \n",
    "    \n",
    "    # MODAL BIN 20 PREDICTIONS\n",
    "    \n",
    "    bin20arr = np.zeros((500,500))\n",
    "    for i in range(0, 500, 20):\n",
    "        for j in range(0, 500, 20):\n",
    "\n",
    "            # Each bin is assigned its modal cell type\n",
    "            thebin = actual[i:i+20,j:j+20].astype('int')\n",
    "\n",
    "            celltype = scipy.stats.mode(thebin, axis=None)[0][0]\n",
    "            bin20arr[i:i+20,j:j+20] = celltype\n",
    "\n",
    "    bin20_values.append(len(np.where(bin20arr == actual)[0]) / (500*500))"
   ]
  },
  {
   "cell_type": "code",
   "execution_count": 47,
   "id": "302c29f8",
   "metadata": {},
   "outputs": [],
   "source": [
    "# Dataframe for plot\n",
    "\n",
    "df = pd.DataFrame([{'Method': 'TopACT\\n(Bin 1)', 'Accuracy': x} for x in topact_values] + \n",
    "                  [{'Method': 'RCTD\\n(Bin 20)', 'Accuracy': x} for x in rctd_values]+ \n",
    "                  [{'Method': 'Modal\\n(Bin 20)', 'Accuracy': x} for x in bin20_values] )"
   ]
  },
  {
   "cell_type": "code",
   "execution_count": 48,
   "id": "3650b30c",
   "metadata": {},
   "outputs": [
    {
     "data": {
      "image/png": "[encoded data removed]",
      "text/plain": [
       "<Figure size 500x350 with 1 Axes>"
      ]
     },
     "metadata": {},
     "output_type": "display_data"
    }
   ],
   "source": [
    "# Plot accuracy graph\n",
    "\n",
    "sns.set_style(\"ticks\")\n",
    "sns.set_context(\"paper\")\n",
    "\n",
    "plt.rcParams['figure.figsize'] = (5, 3.5)\n",
    "\n",
    "b = sns.boxplot(data=df, x=\"Method\", y=\"Accuracy\", color='#8c96c6', linewidth=2, showfliers=True)\n",
    "b.set_xlabel(\"\",fontsize=16)\n",
    "b.set_ylabel(\"Accuracy\",fontsize=16)\n",
    "b.tick_params(labelsize=16)\n",
    "\n",
    "\n",
    "ax = plt.gca()\n",
    "ax.spines['right'].set_visible(False)\n",
    "ax.spines['top'].set_visible(False)\n",
    "\n",
    "plt.show()"
   ]
  },
  {
   "cell_type": "code",
   "execution_count": null,
   "id": "4dd64b12",
   "metadata": {},
   "outputs": [],
   "source": []
  }
 ],
 "metadata": {
  "kernelspec": {
   "display_name": "Python 3 (ipykernel)",
   "language": "python",
   "name": "python3"
  },
  "language_info": {
   "codemirror_mode": {
    "name": "ipython",
    "version": 3
   },
   "file_extension": ".py",
   "mimetype": "text/x-python",
   "name": "python",
   "nbconvert_exporter": "python",
   "pygments_lexer": "ipython3",
   "version": "3.10.0"
  }
 },
 "nbformat": 4,
 "nbformat_minor": 5
}
