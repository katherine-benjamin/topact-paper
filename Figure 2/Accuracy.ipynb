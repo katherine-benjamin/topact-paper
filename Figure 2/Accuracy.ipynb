{
 "cells": [
  {
   "cell_type": "markdown",
   "id": "754bfc65",
   "metadata": {},
   "source": [
    "This notebook computes the accuracy of various precomputed outputs on each synthetic data set. "
   ]
  },
  {
   "cell_type": "code",
   "execution_count": 98,
   "id": "732b73bd",
   "metadata": {
    "scrolled": true
   },
   "outputs": [],
   "source": [
    "import itertools\n",
    "\n",
    "import numpy as np\n",
    "import pandas as pd\n",
    "import scipy.stats\n",
    "\n",
    "import matplotlib.pyplot as plt\n",
    "import seaborn as sns\n",
    "\n",
    "import warnings\n",
    "warnings.simplefilter(\"ignore\", FutureWarning)"
   ]
  },
  {
   "cell_type": "code",
   "execution_count": 100,
   "id": "8bc16d81",
   "metadata": {},
   "outputs": [],
   "source": [
    "plt.rcParams['pdf.fonttype'] = 42"
   ]
  },
  {
   "cell_type": "code",
   "execution_count": 3,
   "id": "bcab560b",
   "metadata": {},
   "outputs": [],
   "source": [
    "def hex_to_rgb(h):\n",
    "    return tuple(int(h[i+1:i+3], 16) for i in (0, 2, 4))"
   ]
  },
  {
   "cell_type": "code",
   "execution_count": 4,
   "id": "d30b9e67",
   "metadata": {},
   "outputs": [],
   "source": [
    "# Orderings of cell types in ground truth and TopACT-predicted data\n",
    "# One is alphabetical, the other is by total number of cells in snRNA-seq\n",
    "ACTUAL_CELLTYPES = ['PT', 'TAL', 'DCT', 'ENDO', 'VSM', 'CCD', 'IMMUNE', 'PODS', 'UROTHELIUM']\n",
    "ALPHABETICAL_CELLTYPES = ['CCD', 'DCT', 'ENDO', 'IMMUNE', 'PODS', 'PT', 'TAL', 'UROTHELIUM', 'VSM']"
   ]
  },
  {
   "cell_type": "code",
   "execution_count": 75,
   "id": "bbc4f782",
   "metadata": {},
   "outputs": [],
   "source": [
    "# We store the accuracies of each iteration in these lists\n",
    "topact_values = []\n",
    "bin20_values = []\n",
    "rctd_values = []\n",
    "\n",
    "for i in range(100):\n",
    "        \n",
    "    # Ground truth cell types\n",
    "    actual = np.loadtxt(f'../topact-data/syntheticdata/groundtruth/celltypegrid_{i}.txt')\n",
    "    \n",
    "    \n",
    "\n",
    "    # TOPACT PREDICTIONS\n",
    "    \n",
    "    # Convert indices to match order of ground truth cell types\n",
    "    def convert_topact(image):\n",
    "        \n",
    "        def convert_coord(p):\n",
    "            x = image[p]\n",
    "            if np.isnan(x):\n",
    "                return -1 # Represents missing prediction\n",
    "            return ACTUAL_CELLTYPES.index(ALPHABETICAL_CELLTYPES[int(x)])\n",
    "        \n",
    "        return np.array(list(map(convert_coord, itertools.product(range(500), range(500))))).reshape((500,500))\n",
    "    \n",
    "    # TopACT confidence matrix\n",
    "    predicted = np.loadtxt(f'../topact-data/syntheticdata/topactpreds/topactpreds_{i}.txt')\n",
    "    # Convert to ground truth cell type indices\n",
    "    predicted = convert_topact(predicted)\n",
    "    \n",
    "    # This is the accuracy of the underlying prediction\n",
    "    topact_values.append(len(np.where(predicted == actual)[0]) / (500*500))\n",
    "    \n",
    "    \n",
    "    \n",
    "    # RCTD PREDICTIONS\n",
    "    \n",
    "    rctd = pd.read_csv(f'../topact-data/syntheticdata/rctdoutput/rctd_{i}.csv')\n",
    "\n",
    "    rctd.rename(columns={ rctd.columns[0]: \"spot\" }, inplace = True)\n",
    "    \n",
    "    # Extract cell cords from RCTD output array\n",
    "    rctd['x'] = list(map(lambda x: int(x[4:].split('.')[0]), rctd['spot']))\n",
    "    rctd['y'] = list(map(lambda x: int(x[4:].split('.')[1]), rctd['spot']))\n",
    "    rctdarr = np.zeros((500,500)).astype('int') - 1 # -1 represents missing prediction\n",
    "    for row in rctd.itertuples():\n",
    "        # For each predicted cell type, assign prediction to whole bin\n",
    "        # WARNING: in SciPy >= 1.11.0 this will need to be changed as the mode function is being updated\n",
    "        rctdarr[row.x*20:row.x*20+20, row.y*20:row.y*20+20] = ACTUAL_CELLTYPES.index(row.first_type)\n",
    "        \n",
    "    rctd_values.append(len(np.where(rctdarr == actual)[0]) / (500*500))\n",
    "    \n",
    "    \n",
    "    # MODAL BIN 20 PREDICTIONS\n",
    "    \n",
    "    bin20arr = np.zeros((500,500))\n",
    "    for i in range(0, 500, 20):\n",
    "        for j in range(0, 500, 20):\n",
    "\n",
    "            # Each bin is assigned its modal cell type\n",
    "            thebin = actual[i:i+20,j:j+20].astype('int')\n",
    "\n",
    "            celltype = scipy.stats.mode(thebin, axis=None)[0][0]\n",
    "            bin20arr[i:i+20,j:j+20] = celltype\n",
    "\n",
    "    bin20_values.append(len(np.where(bin20arr == actual)[0]) / (500*500))"
   ]
  },
  {
   "cell_type": "code",
   "execution_count": 87,
   "id": "6ae2a9c3",
   "metadata": {},
   "outputs": [],
   "source": [
    "# Dataframe for plot\n",
    "\n",
    "df = pd.DataFrame([{'Method': 'TopACT', 'Display': 'TopACT\\n(Bin 1)', 'Accuracy': x, 'Iteration': i} for i, x in enumerate(topact_values)] + \n",
    "                  [{'Method': 'RCTD', 'Display': 'RCTD\\n(Bin 20)', 'Accuracy': x, 'Iteration': i} for i, x in enumerate(rctd_values)]+ \n",
    "                  [{'Method': 'Modal', 'Display': 'Modal\\n(Bin 20)', 'Accuracy': x, 'Iteration': i} for i, x in enumerate(bin20_values)] )"
   ]
  },
  {
   "cell_type": "code",
   "execution_count": 101,
   "id": "6d87335e",
   "metadata": {},
   "outputs": [
    {
     "data": {
      "image/png": "[encoded data removed]",
      "text/plain": [
       "<Figure size 130.394x91.5591 with 1 Axes>"
      ]
     },
     "metadata": {},
     "output_type": "display_data"
    }
   ],
   "source": [
    "# Plot accuracy graph\n",
    "\n",
    "sns.set(style=\"ticks\", context='paper', font=\"Arial\")\n",
    "cm = 1/2.54  # centimeters in inches\n",
    "\n",
    "plt.rcParams['figure.figsize'] = (4.6*cm, 3.23*cm)\n",
    "\n",
    "b = sns.boxplot(data=df, x=\"Display\", y=\"Accuracy\", fill=True, palette='flare_r', hue='Display', linewidth=1*cm, showfliers=True, color='black')\n",
    "b.set_xlabel(\"\",fontsize=5)\n",
    "b.set_ylabel(\"Accuracy\",fontsize=5)\n",
    "b.tick_params(labelsize=5)\n",
    "# sns.stripplot(data=df, x=\"Display\", y=\"Accuracy\", s=1*cm, color='black')\n",
    "\n",
    "ax = plt.gca()\n",
    "ax.spines['right'].set_visible(False)\n",
    "ax.spines['top'].set_visible(False)\n",
    "ax.spines['left'].set_linewidth(1*cm)\n",
    "ax.spines['bottom'].set_linewidth(1*cm)\n",
    "# ax.get_legend().remove()\n",
    "ax.xaxis.set_tick_params(width=1*cm)\n",
    "ax.yaxis.set_tick_params(width=1*cm)\n",
    "plt.savefig('./accuracy.pdf', transparent='True', bbox_inches='tight')\n",
    "plt.show()"
   ]
  },
  {
   "cell_type": "code",
   "execution_count": 91,
   "id": "e87b40aa",
   "metadata": {},
   "outputs": [
    {
     "data": {
      "text/plain": [
       "0.5979951688464015"
      ]
     },
     "execution_count": 91,
     "metadata": {},
     "output_type": "execute_result"
    }
   ],
   "source": [
    "np.std(topact_values, ddof=1) * 100"
   ]
  },
  {
   "cell_type": "code",
   "execution_count": 92,
   "id": "2befad47",
   "metadata": {},
   "outputs": [
    {
     "data": {
      "text/plain": [
       "80.755584"
      ]
     },
     "execution_count": 92,
     "metadata": {},
     "output_type": "execute_result"
    }
   ],
   "source": [
    "np.mean(topact_values) * 100"
   ]
  },
  {
   "cell_type": "code",
   "execution_count": 93,
   "id": "07d54c52",
   "metadata": {},
   "outputs": [
    {
     "data": {
      "text/plain": [
       "0.997711338185266"
      ]
     },
     "execution_count": 93,
     "metadata": {},
     "output_type": "execute_result"
    }
   ],
   "source": [
    "np.std(rctd_values, ddof=1) * 100"
   ]
  },
  {
   "cell_type": "code",
   "execution_count": 94,
   "id": "e7938e6b",
   "metadata": {},
   "outputs": [
    {
     "data": {
      "text/plain": [
       "66.78672"
      ]
     },
     "execution_count": 94,
     "metadata": {},
     "output_type": "execute_result"
    }
   ],
   "source": [
    "np.mean(rctd_values) * 100"
   ]
  },
  {
   "cell_type": "code",
   "execution_count": 95,
   "id": "33ef7130",
   "metadata": {},
   "outputs": [
    {
     "data": {
      "text/plain": [
       "0.8726435944261148"
      ]
     },
     "execution_count": 95,
     "metadata": {},
     "output_type": "execute_result"
    }
   ],
   "source": [
    "np.std(bin20_values, ddof=1) * 100"
   ]
  },
  {
   "cell_type": "code",
   "execution_count": 96,
   "id": "34d91720",
   "metadata": {},
   "outputs": [
    {
     "data": {
      "text/plain": [
       "69.322944"
      ]
     },
     "execution_count": 96,
     "metadata": {},
     "output_type": "execute_result"
    }
   ],
   "source": [
    "np.mean(bin20_values) * 100"
   ]
  },
  {
   "cell_type": "code",
   "execution_count": null,
   "id": "60198018",
   "metadata": {},
   "outputs": [],
   "source": []
  }
 ],
 "metadata": {
  "kernelspec": {
   "display_name": "Python 3 (ipykernel)",
   "language": "python",
   "name": "python3"
  },
  "language_info": {
   "codemirror_mode": {
    "name": "ipython",
    "version": 3
   },
   "file_extension": ".py",
   "mimetype": "text/x-python",
   "name": "python",
   "nbconvert_exporter": "python",
   "pygments_lexer": "ipython3",
   "version": "3.10.0"
  }
 },
 "nbformat": 4,
 "nbformat_minor": 5
}
