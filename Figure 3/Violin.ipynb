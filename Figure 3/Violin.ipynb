{
 "cells": [
  {
   "cell_type": "code",
   "execution_count": 1,
   "id": "de907c81",
   "metadata": {},
   "outputs": [],
   "source": [
    "import pandas as pd\n",
    "import numpy as np\n",
    "import seaborn as sns\n",
    "import matplotlib.pyplot as plt\n",
    "\n",
    "from matplotlib.ticker import FormatStrFormatter\n",
    "\n",
    "import warnings\n",
    "warnings.filterwarnings(\"ignore\", category=FutureWarning)\n",
    "warnings.filterwarnings(\"ignore\", category=UserWarning)\n",
    "\n",
    "\n",
    "cm = 1/2.54\n",
    "plt.rcParams['pdf.fonttype'] = 42\n",
    "\n",
    "plt.rc('axes', linewidth=1*cm)\n",
    "sns.set()\n",
    "sns.set_style(\"white\")\n",
    "sns.set_context(\"poster\")\n",
    "\n",
    "sns.set_palette('muted')"
   ]
  },
  {
   "cell_type": "code",
   "execution_count": 2,
   "id": "6c6e3e94",
   "metadata": {},
   "outputs": [],
   "source": [
    "PVM_MARKERS = ['Pf4', 'Lyz2', 'Ms4a7', 'Ccl24', 'F13a1', 'Cd74', 'Mrc1']"
   ]
  },
  {
   "cell_type": "code",
   "execution_count": 3,
   "id": "e9dcaeb5",
   "metadata": {},
   "outputs": [],
   "source": [
    "marker_df = pd.read_csv('./pvm_marker_counts.csv')"
   ]
  },
  {
   "cell_type": "code",
   "execution_count": 4,
   "id": "8dde3a57",
   "metadata": {},
   "outputs": [],
   "source": [
    "pvm_df = pd.read_csv('../topact-data/chen2022-mousebrain/chen2022_adult_mouse_brain_TOPACT_PVM_LOCI.csv.csv')"
   ]
  },
  {
   "cell_type": "code",
   "execution_count": 5,
   "id": "254ddb44",
   "metadata": {},
   "outputs": [],
   "source": [
    "def saturate_hull(hull, cells, numcells=200):\n",
    "    \n",
    "    m,n = hull.shape\n",
    "    \n",
    "    hit = hull.copy()\n",
    "    \n",
    "    for x,y in cells:\n",
    "        hit[x-100:x+100,y-100:y+100] = 0\n",
    "    \n",
    "    failures = 0\n",
    "    \n",
    "    newcells = []\n",
    "    \n",
    "    while len(newcells) < numcells:\n",
    "        \n",
    "        x = np.random.randint(m)\n",
    "        y = np.random.randint(n)\n",
    "        \n",
    "        if hit[x,y]:\n",
    "            \n",
    "            newcells.append((x,y))\n",
    "            hit[x-100:x+100,y-100:y+100] = 0\n",
    "\n",
    "    return newcells"
   ]
  },
  {
   "cell_type": "code",
   "execution_count": 6,
   "id": "a23b9df7",
   "metadata": {},
   "outputs": [],
   "source": [
    "def sample_background_cells(mask, num_cells = None):\n",
    "    pvmsx = np.array(list(pvm_df['centroid-1'])).astype('int')\n",
    "    pvmsy = np.array(list(pvm_df['centroid-0'])).astype('int')\n",
    "    pvms = np.vstack([pvmsx, pvmsy]).T\n",
    "    bgcells = saturate_hull(mask, pvms, num_cells if num_cells else len(pvmsx))\n",
    "    bgcells = np.array(bgcells)\n",
    "    return bgcells"
   ]
  },
  {
   "cell_type": "code",
   "execution_count": 7,
   "id": "0f29a573",
   "metadata": {},
   "outputs": [],
   "source": [
    "def getviolinplotdf(pvms, bgcells):\n",
    "        \n",
    "    cellcounts = []\n",
    "\n",
    "    for y,x in pvms:\n",
    "\n",
    "        celldf = marker_df[(marker_df.newx  >= x - 50) & \n",
    "                           (marker_df.newx < x + 50) & \n",
    "                           (marker_df.newy >= y - 50) & \n",
    "                           (marker_df.newy < y + 50)\n",
    "                          ]\n",
    "\n",
    "        celldf = celldf.groupby('geneID').sum().reset_index()\n",
    "\n",
    "        localcounts = {marker : 0 for marker in PVM_MARKERS}\n",
    "\n",
    "        for row in celldf.itertuples():\n",
    "            localcounts[row.geneID] += row.MIDCounts\n",
    "        cellcounts.append(localcounts)\n",
    "        \n",
    "\n",
    "    bgcellcounts = []\n",
    "\n",
    "    for y,x in bgcells:\n",
    "\n",
    "        celldf = marker_df[(marker_df.newx >= x - 50) &\n",
    "                           (marker_df.newx < x + 50) &\n",
    "                           (marker_df.newy >= y - 50) &\n",
    "                           (marker_df.newy < y + 50)\n",
    "                          ]\n",
    "\n",
    "        celldf = celldf.groupby('geneID').sum().reset_index()\n",
    "\n",
    "        localcounts = {marker : 0 for marker in PVM_MARKERS}\n",
    "        for row in celldf.itertuples():\n",
    "            localcounts[row.geneID] += row.MIDCounts\n",
    "        bgcellcounts.append(localcounts)\n",
    "        \n",
    "    violindf = pd.DataFrame(cellcounts + bgcellcounts)\n",
    "    violindf['group'] = ['PVM'] * len(pvms) + ['Background'] * len(bgcells)\n",
    "    \n",
    "    # Adding up all the counts\n",
    "    numeric_columns = violindf.select_dtypes(include=[int])\n",
    "    row_sums = numeric_columns.sum(axis=1)\n",
    "    violindf['All markers'] = row_sums\n",
    "    \n",
    "    return violindf"
   ]
  },
  {
   "cell_type": "code",
   "execution_count": 8,
   "id": "6a5600dc",
   "metadata": {},
   "outputs": [],
   "source": [
    "# You can sample your own background cells like this:\n",
    "# mask = np.loadtxt('./chen2022_adult_mouse_brain_CONVEXHULL.txt')\n",
    "# bgcells = sample_background_cells(mask=mask)\n",
    "\n",
    "# or use ours:\n",
    "bgcells = np.loadtxt('background_cells.txt')"
   ]
  },
  {
   "cell_type": "code",
   "execution_count": 9,
   "id": "c04064ff",
   "metadata": {},
   "outputs": [],
   "source": [
    "pvmsx = np.array(list(pvm_df['centroid-1'])).astype('int')\n",
    "pvmsy = np.array(list(pvm_df['centroid-0'])).astype('int')\n",
    "pvms = np.vstack([pvmsx, pvmsy]).T\n",
    "\n",
    "violindf = getviolinplotdf(pvms, bgcells)"
   ]
  },
  {
   "cell_type": "code",
   "execution_count": 10,
   "id": "7f6b622d",
   "metadata": {},
   "outputs": [],
   "source": [
    "violindf = pd.melt(violindf, id_vars=\"group\", var_name=\"marker\")\n",
    "violindf['logcount'] = violindf.value.apply(lambda x: np.log(x+1))"
   ]
  },
  {
   "cell_type": "code",
   "execution_count": 11,
   "id": "bafc2e4f",
   "metadata": {},
   "outputs": [
    {
     "data": {
      "image/png": "[encoded data removed]",
      "text/plain": [
       "<Figure size 249.449x62.3622 with 17 Axes>"
      ]
     },
     "metadata": {
      "needs_background": "light"
     },
     "output_type": "display_data"
    }
   ],
   "source": [
    "sns.set(style=\"ticks\", context='paper', font=\"Arial\")\n",
    "plt.rcParams.update({'font.size': 5, 'lines.color': 'black'})\n",
    "\n",
    "g = sns.FacetGrid(violindf, \n",
    "                  row=\"group\", col=\"marker\", hue='group', sharex=\"col\", \n",
    "                  margin_titles=True, despine=False, \n",
    "                  palette={'Background': (0.41568627450980394, 0.8, 0.39215686274509803), \n",
    "                           'PVM': (0.2823529411764706, 0.47058823529411764, 0.8156862745098039)\n",
    "                          },\n",
    "                  height=1.1*cm\n",
    "                 )\n",
    "g.map(sns.violinplot, \"logcount\", cut=0, linecolor='black', linewidth=1*cm, inner='box')\n",
    "\n",
    "plt.subplots_adjust(hspace=0, wspace=0)\n",
    "\n",
    "g.set_titles(col_template=\"{col_name}\", row_template=\"\", size=5)\n",
    "g.set_xlabels(\"\")\n",
    "for ax,l in zip(g.axes[:,0],['PVM', 'Background']):\n",
    "    ax.set_ylabel(l, rotation=0, ha='right', va='center', fontsize=5)\n",
    "\n",
    "for ax in g.axes.flatten():\n",
    "    ax.tick_params(axis='both', which='major', labelsize=5, length=2, width=1*cm)\n",
    "    ax.spines['left'].set_linewidth(1*cm)\n",
    "    ax.spines['bottom'].set_linewidth(1*cm)\n",
    "    ax.spines['right'].set_linewidth(1*cm)\n",
    "    ax.spines['top'].set_linewidth(1*cm)\n",
    "    ax.xaxis.set_major_formatter(FormatStrFormatter('%.1f'))\n",
    "    ax.set_yticks([])\n",
    "    \n",
    "    \n",
    "g.axes[1,0].set_xticks([0,2])\n",
    "g.axes[1,1].set_xticks([0,2])\n",
    "    \n",
    "# add a big axis, hide frame\n",
    "fig=plt.gcf()\n",
    "fig.add_subplot(111, frameon=False)\n",
    "# hide tick and tick label of the big axis\n",
    "plt.tick_params(labelcolor='none', which='both', top=False, bottom=False, left=False, right=False)\n",
    "\n",
    "\n",
    "plt.xlabel(\"log(count+1)\", fontsize=5)\n",
    "\n",
    "plt.savefig(\"./pvmmarkers.pdf\", transparent=True, bbox_inches='tight')"
   ]
  },
  {
   "cell_type": "code",
   "execution_count": null,
   "id": "08581066",
   "metadata": {},
   "outputs": [],
   "source": []
  }
 ],
 "metadata": {
  "kernelspec": {
   "display_name": "Python 3 (ipykernel)",
   "language": "python",
   "name": "python3"
  },
  "language_info": {
   "codemirror_mode": {
    "name": "ipython",
    "version": 3
   },
   "file_extension": ".py",
   "mimetype": "text/x-python",
   "name": "python",
   "nbconvert_exporter": "python",
   "pygments_lexer": "ipython3",
   "version": "3.10.0"
  }
 },
 "nbformat": 4,
 "nbformat_minor": 5
}
