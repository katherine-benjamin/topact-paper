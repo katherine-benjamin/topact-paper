{
 "cells": [
  {
   "cell_type": "code",
   "execution_count": 1,
   "id": "0de0aec9",
   "metadata": {},
   "outputs": [],
   "source": [
    "import numpy as np\n",
    "import skimage.morphology\n",
    "import skimage.measure\n",
    "import pandas as pd\n",
    "from scipy.ndimage import gaussian_filter\n",
    "from scipy.spatial import ConvexHull"
   ]
  },
  {
   "cell_type": "code",
   "execution_count": 2,
   "id": "69976ec7",
   "metadata": {},
   "outputs": [],
   "source": [
    "# load the annotated image\n",
    "# available from the large output files data set (see README)\n",
    "topactoutput = np.loadtxt('./chen2022_adult_mouse_brain_TOPACT_PVM_MAP.txt')"
   ]
  },
  {
   "cell_type": "code",
   "execution_count": 3,
   "id": "3b1edd2d",
   "metadata": {},
   "outputs": [],
   "source": [
    "# convert to binary image\n",
    "bin_image = np.zeros_like(topactoutput).astype(bool)\n",
    "bin_image[np.where(topactoutput == 0)] = True"
   ]
  },
  {
   "cell_type": "code",
   "execution_count": 4,
   "id": "bc292b0b",
   "metadata": {},
   "outputs": [],
   "source": [
    "# some morphology\n",
    "cleaned = skimage.morphology.remove_small_objects(bin_image, 1).astype(bool)\n",
    "cleaned = skimage.morphology.binary_dilation(cleaned).astype('int')\n",
    "labelled = skimage.morphology.label(cleaned, connectivity=2).astype('int')"
   ]
  },
  {
   "cell_type": "code",
   "execution_count": 5,
   "id": "1f6223bb",
   "metadata": {},
   "outputs": [],
   "source": [
    "# export labelled regions to dataframe\n",
    "df = skimage.measure.regionprops_table(labelled, properties=['centroid', 'area'])\n",
    "df = pd.DataFrame(df)"
   ]
  },
  {
   "cell_type": "markdown",
   "id": "b58f3fac",
   "metadata": {},
   "source": [
    "Now we only want cells that are in the convex hull"
   ]
  },
  {
   "cell_type": "code",
   "execution_count": 6,
   "id": "97f0b8ab",
   "metadata": {},
   "outputs": [],
   "source": [
    "# we just need this because the centroid titles don't make nice python variable names\n",
    "df['x'] = df['centroid-0']\n",
    "df['y'] = df['centroid-1']"
   ]
  },
  {
   "cell_type": "code",
   "execution_count": 7,
   "id": "8c490603",
   "metadata": {
    "lines_to_next_cell": 1
   },
   "outputs": [],
   "source": [
    "hullvertices = np.loadtxt('./hull_vertices.txt')\n",
    "hull = ConvexHull(hullvertices)"
   ]
  },
  {
   "cell_type": "code",
   "execution_count": 8,
   "id": "9e91a855",
   "metadata": {
    "lines_to_next_cell": 1
   },
   "outputs": [],
   "source": [
    "def point_in_hull(point, tolerance=1e-12):\n",
    "    return all(\n",
    "        (np.dot(eq[:-1], point) + eq[-1] <= tolerance)\n",
    "        for eq in hull.equations)"
   ]
  },
  {
   "cell_type": "code",
   "execution_count": 9,
   "id": "ea41e1e3",
   "metadata": {},
   "outputs": [],
   "source": [
    "df['inhull'] = [ point_in_hull( np.array([row.y, row.x])) for row in df.itertuples()]"
   ]
  },
  {
   "cell_type": "code",
   "execution_count": 10,
   "id": "bc140b97",
   "metadata": {},
   "outputs": [],
   "source": [
    "# filter out cells not in hull + below a size threshold\n",
    "df = df[(df.inhull) & (df.area > 60)]"
   ]
  },
  {
   "cell_type": "code",
   "execution_count": 11,
   "id": "b2eabfaa",
   "metadata": {},
   "outputs": [],
   "source": [
    "df.to_csv(\"./pvm_loci.csv\", columns=['centroid-0', 'centroid-1', 'area'], index=False)"
   ]
  },
  {
   "cell_type": "code",
   "execution_count": null,
   "id": "5736881f",
   "metadata": {},
   "outputs": [],
   "source": []
  }
 ],
 "metadata": {
  "jupytext": {
   "cell_metadata_filter": "-all",
   "main_language": "python",
   "notebook_metadata_filter": "-all"
  },
  "kernelspec": {
   "display_name": "Python 3 (ipykernel)",
   "language": "python",
   "name": "python3"
  },
  "language_info": {
   "codemirror_mode": {
    "name": "ipython",
    "version": 3
   },
   "file_extension": ".py",
   "mimetype": "text/x-python",
   "name": "python",
   "nbconvert_exporter": "python",
   "pygments_lexer": "ipython3",
   "version": "3.10.0"
  }
 },
 "nbformat": 4,
 "nbformat_minor": 5
}
